{
 "cells": [
  {
   "cell_type": "markdown",
   "metadata": {},
   "source": [
    "# Scraping Laptops data from bestbuy canada website\n"
   ]
  },
  {
   "cell_type": "markdown",
   "metadata": {},
   "source": [
<<<<<<< HEAD
    "This is an example of data scraping from bestbuy canada website. One use it as a tutorial. This notebook is an exercise I did in order to help me decide what computer can I buy for my personnal project in data science. So I decided to focus on one website and see what it can tell me about my project. I essentially make some request on the website of bestbuy and I use BeautifulSoup to parse the html file I got from the requests and collect automatically data about computer on the website. \n",
    "After getting my csv file, I clean it and take at look at the desciptive statistic measures  and visualize it."
=======
    "This is an example of data scraping from bestbuy canada website. This notebook is an exercise I did in order to help me decide what computer can I buy for my personnal project in data science. So I decided to focus on one website and see what it can tell me about my project. I essentially make some request on the website of bestbuy and I use BeautifulSoup to parse the html file I got from the requests and collect automatically data about computer on the website. \n",
    "After getting my csv file, I clean it and take at look at the desciptive statistic measures  and make some visualization."
>>>>>>> master
   ]
  },
  {
   "cell_type": "code",
   "execution_count": 1,
   "metadata": {},
   "outputs": [],
   "source": [
    "from bs4 import BeautifulSoup\n",
    "import pandas as pd\n",
    "from IPython.core.display import clear_output\n",
    "\n",
    "from time import sleep\n",
    "from datetime import datetime\n",
    "from random import randint"
   ]
  },
  {
   "cell_type": "code",
   "execution_count": 2,
   "metadata": {},
   "outputs": [],
   "source": [
    "#That is for hiding warnings\n",
    "from warnings import warn\n",
    "\n",
    "warn(\"Warning Simulation\")"
   ]
  },
  {
   "cell_type": "code",
   "execution_count": 3,
   "metadata": {},
   "outputs": [],
   "source": [
    "from requests import get, ReadTimeout, ConnectTimeout, HTTPError, Timeout, ConnectionError"
   ]
  },
  {
   "cell_type": "code",
   "execution_count": 4,
   "metadata": {},
   "outputs": [],
   "source": [
    "# I use get from requests package to read the url I selected with text function\n",
    "url = 'https://www.bestbuy.ca/en-ca/category/laptops-macbooks/20352.aspx?type=product&page=1&filter=category%253aComputers%2B%2526%2BTablets%253bcategory%253aLaptops%2B%2526%2BMacBooks%253bcustom0ramsize%253a4'\n",
    "# url = 'https://www.bestbuy.ca/en-ca/category/laptops/36711?path=category%253AComputers%2B%2526%2BTablets%253Bcategory%253ALaptops%2B%2526%2BMacBooks%253Bcategory%253ALaptops%253Bcustom0ramsize%253A4'"
   ]
  },
  {
   "cell_type": "code",
   "execution_count": 11,
   "metadata": {
    "tags": []
   },
   "outputs": [
    {
     "output_type": "stream",
     "name": "stdout",
     "text": "OOPS!! Timeout Error\n"
    }
   ],
   "source": [
    "try:\n",
    "    response = get(url)\n",
    "    response.raise_for_status()\n",
    "    print(response.text[:200])\n",
    "except ConnectionError as e:\n",
    "    print(\"OOPS!! Connection Error. Make sure you are connected to Internet. Technical Details given below.\\n\")\n",
    "    # print(str(e))            \n",
    "    # continue\n",
    "except Timeout as e:\n",
    "    print(\"OOPS!! Timeout Error\")\n",
    "    # print(str(e))\n",
    "    # continue\n",
    "except RequestException as e:\n",
    "    print(\"OOPS!! General Error\")\n",
    "    # print(str(e))\n",
    "    # continue\n",
    "except KeyboardInterrupt:\n",
    "    print(\"Someone closed the program\")"
   ]
  },
  {
   "cell_type": "markdown",
   "metadata": {},
   "source": [
    "## Use beautifulSoup to parse the HTML content"
   ]
  },
  {
   "cell_type": "code",
   "execution_count": null,
   "metadata": {},
   "outputs": [],
   "source": [
    "html_soup = BeautifulSoup(response.text, 'html.parser')\n",
    "type(html_soup)"
   ]
  },
  {
   "cell_type": "code",
   "execution_count": null,
   "metadata": {},
   "outputs": [],
   "source": [
    "laptop_containers = html_soup.find_all('li', class_='listing-item equal-height-container')\n",
    "print(type(laptop_containers))\n",
    "print('length of laptopcontainer : 'len(laptop_containers))"
   ]
  },
  {
   "cell_type": "code",
   "execution_count": null,
   "metadata": {},
   "outputs": [],
   "source": [
    "laptop_containers = html_soup.find_all('div', class_='item-inner clearfix')\n",
    "print(type(laptop_containers))\n",
    "print(len(laptop_containers))"
   ]
  },
  {
   "cell_type": "markdown",
   "metadata": {},
   "source": [
    "## Extracting the data for a single laptop\n",
    "We can access the first container, which contains information about a single laptop, by using list notation on laptop_containers."
   ]
  },
  {
   "cell_type": "code",
   "execution_count": null,
   "metadata": {},
   "outputs": [],
   "source": [
    "# Take a look at the first element\n",
    "first_laptop = laptop_containers[0]\n",
    "first_laptop"
   ]
  },
  {
   "cell_type": "markdown",
   "metadata": {},
   "source": [
    "## The laptop name\n",
    "Here I check every tag to see what it contains in order to retrieve the informations I need."
   ]
  },
  {
   "cell_type": "code",
   "execution_count": null,
   "metadata": {},
   "outputs": [],
   "source": [
    "first_laptop.div"
   ]
  },
  {
   "cell_type": "code",
   "execution_count": null,
   "metadata": {},
   "outputs": [],
   "source": [
    "first_laptop.a"
   ]
  },
  {
   "cell_type": "code",
   "execution_count": null,
   "metadata": {},
   "outputs": [],
   "source": [
    "first_laptop.h4"
   ]
  },
  {
   "cell_type": "code",
   "execution_count": null,
   "metadata": {},
   "outputs": [],
   "source": [
    "first_laptop.h4.a"
   ]
  },
  {
   "cell_type": "code",
   "execution_count": null,
   "metadata": {},
   "outputs": [],
   "source": [
    "first_name = first_laptop.h4.a.text"
   ]
  },
  {
   "cell_type": "code",
   "execution_count": null,
   "metadata": {},
   "outputs": [],
   "source": [
    "first_name"
   ]
  },
  {
   "cell_type": "markdown",
   "metadata": {},
   "source": [
    "## Laptop price"
   ]
  },
  {
   "cell_type": "code",
   "execution_count": null,
   "metadata": {},
   "outputs": [],
   "source": [
    "first_price = first_laptop.find('span', class_='amount')"
   ]
  },
  {
   "cell_type": "code",
   "execution_count": null,
   "metadata": {},
   "outputs": [],
   "source": [
    "first_price"
   ]
  },
  {
   "cell_type": "code",
   "execution_count": null,
   "metadata": {},
   "outputs": [],
   "source": [
    "first_price = first_price.text"
   ]
  },
  {
   "cell_type": "code",
   "execution_count": null,
   "metadata": {},
   "outputs": [],
   "source": [
    "first_price"
   ]
  },
  {
   "cell_type": "markdown",
   "metadata": {},
   "source": [
    "## Laptop rating"
   ]
  },
  {
   "cell_type": "code",
   "execution_count": null,
   "metadata": {},
   "outputs": [],
   "source": [
    "# I do the same investigation for laptop price for laptop rating, I deduce the following function which retrieves laptop rating\n",
    "def Rating(c):\n",
    "    c = c.find('div', class_=\"rating-stars-yellow\")\n",
    "    c = c['style']\n",
    "    c = c.split()[1]\n",
    "    c = float(c[:-2])\n",
    "    return c"
   ]
  },
  {
   "cell_type": "code",
   "execution_count": null,
   "metadata": {},
   "outputs": [],
   "source": [
    "# Rating of first laptop\n",
    "Rating(first_laptop)"
   ]
  },
  {
   "cell_type": "markdown",
   "metadata": {},
   "source": [
    "## Number of votes"
   ]
  },
  {
   "cell_type": "code",
   "execution_count": null,
   "metadata": {},
   "outputs": [],
   "source": [
    "first_vote = first_laptop.find('div', class_=\"rating-num\").text"
   ]
  },
  {
   "cell_type": "markdown",
   "metadata": {},
   "source": [
    "## The script for a single page\n"
   ]
  },
  {
   "cell_type": "code",
   "execution_count": null,
   "metadata": {},
   "outputs": [],
   "source": [
    "# Lists to store the scraped data in\n",
    "names = []\n",
    "prices = []\n",
    "ratings = []\n",
    "votes = []\n",
    "\n",
    "# Extract data from individual movie container\n",
    "for container in laptop_containers:\n",
    "\n",
    "    # If the movie has Metascore, then extract:\n",
    "    if container.find('div',  class_='rating-stars-yellow') is not None:\n",
    "\n",
    "        # The name\n",
    "        name = first_laptop.h4.a.text\n",
    "        names.append(name)\n",
    "\n",
    "        # The price\n",
    "        price = container.find('span', class_='amount').text\n",
    "        prices.append(price)\n",
    "\n",
    "        # The rating\n",
    "        rating = Rating(container)\n",
    "        ratings.append(rating)\n",
    "\n",
    "        # The number of votes\n",
    "        vote = container.find('div', class_=\"rating-num\").text\n",
    "        votes.append(vote)"
   ]
  },
  {
   "cell_type": "code",
   "execution_count": null,
   "metadata": {},
   "outputs": [],
   "source": [
    "# I put the collected data in pandas dataframe"
   ]
  },
  {
   "cell_type": "code",
   "execution_count": null,
   "metadata": {},
   "outputs": [],
   "source": [
    "test_df = pd.DataFrame({'laptop': names,\n",
    "                       'price': prices,\n",
    "                       'rating': ratings,\n",
    "                        'votes': votes})\n",
    "print(test_df.info())\n",
    "test_df"
   ]
  },
  {
   "cell_type": "code",
   "execution_count": null,
   "metadata": {},
   "outputs": [],
   "source": [
    "headers = {\"Accept-Language\": \"en-US, en;q=0.5\"}"
   ]
  },
  {
   "cell_type": "markdown",
   "metadata": {},
   "source": [
    "## The script for multiple pages"
   ]
  },
  {
   "cell_type": "code",
   "execution_count": null,
   "metadata": {},
   "outputs": [],
   "source": [
    "pages = [str(i) for i in range(1,4)]\n",
    "Ram_url = ['2', '4',  '8', '12', '16','32']"
   ]
  },
  {
   "cell_type": "code",
   "execution_count": null,
   "metadata": {},
   "outputs": [],
   "source": [
    "def URL(s,t):\n",
    "    url = 'https://www.bestbuy.ca/en-ca/category/laptops-macbooks/20352.aspx?type=product&page='+s+'&filter=category%253aComputers%2B%2526%2BTablets%253bcategory%253aLaptops%2B%2526%2BMacBooks%253bcustom0ramsize%253a8'+ t    \n",
    "    print(url)"
   ]
  },
  {
   "cell_type": "code",
   "execution_count": null,
   "metadata": {},
   "outputs": [],
   "source": [
    "URL('s','t')"
   ]
  },
  {
   "cell_type": "code",
   "execution_count": null,
   "metadata": {},
   "outputs": [],
   "source": [
    "pages = [str(i) for i in range(1,30)]\n",
    "Ram_url = ['2', '4',  '8', '12', '16','32', '64']"
   ]
  },
  {
   "cell_type": "code",
   "execution_count": null,
   "metadata": {},
   "outputs": [],
   "source": [
    "# Redeclaring the lists to store data in\n",
    "names = []\n",
    "prices = []\n",
    "ratings = []\n",
    "votes = []\n",
    "\n",
    "# Preparing the monitoring of the loop\n",
    "start_time = datetime.now()\n",
    "requests = 0\n",
    "\n",
    "# For every number of Go of ram in Ram_url\n",
    "for ram_url in Ram_url:\n",
    "\n",
    "    # For every page in the interval 1-54\n",
    "    for page in pages:\n",
    "\n",
    "        # Make a get request\n",
    "        response = get('https://www.bestbuy.ca/en-ca/category/laptops-macbooks/20352.aspx?type=product&page='+page+'&filter=category%253aComputers%2B%2526%2BTablets%253bcategory%253aLaptops%2B%2526%2BMacBooks%253bcustom0ramsize%253a'+ ram_url, headers = headers)\n",
    "       \n",
    "\n",
    "        # Pause the loop\n",
    "        sleep(randint(8,15))\n",
    "\n",
    "        # Monitor the requests\n",
    "        requests += 1\n",
    "        elapsed_time = time() - start_time\n",
    "        print('Request:{}; Frequency: {} requests/s'.format(requests, requests/elapsed_time))\n",
    "        clear_output(wait = True)\n",
    "\n",
    "        # Throw a warning for non-200 status codes\n",
    "        if response.status_code != 200:\n",
    "            warn('Request: {}; Status code: {}'.format(requests, response.status_code))\n",
    "\n",
    "        # Break the loop if the number of requests is greater than expected\n",
    "        if requests > 300:\n",
    "            warn('Number of requests was greater than expected.')  \n",
    "            break \n",
    "\n",
    "        # Parse the content of the request with BeautifulSoup\n",
    "        page_html = BeautifulSoup(response.text, 'html.parser')\n",
    "\n",
    "        # Select all the laptop containers from a single page\n",
    "        laptops_containers = page_html.find_all('div',  class_='item-inner clearfix')\n",
    "\n",
    "        # For every computer in laptops_container\n",
    "        for container in laptops_containers:\n",
    "            # If the computer has a rating, then:\n",
    "            if container.find('div',  class_='rating-stars-yellow') is not None:\n",
    "\n",
    "                # Scrape the name\n",
    "                name = container.h4.a.text\n",
    "                names.append(name)\n",
    "\n",
    "                # Scrape the price \n",
    "                price = container.find('span', class_='amount').text\n",
    "                prices.append(price)\n",
    "\n",
    "                # Scrape the rating\n",
    "                rating = Rating(container)\n",
    "                ratings.append(rating)\n",
    "\n",
    "                \n",
    "                # Scrape the number of votes\n",
    "                vote = container.find('div', class_=\"rating-num\").text\n",
    "                votes.append(vote)"
   ]
  },
  {
   "cell_type": "code",
   "execution_count": null,
   "metadata": {},
   "outputs": [],
   "source": [
    "laptops_rating = pd.DataFrame({'laptops': names,\n",
    "                       'prices': prices,\n",
    "                       'ratings': ratings,\n",
    "                        'votes': votes})"
   ]
  },
  {
   "cell_type": "code",
   "execution_count": null,
   "metadata": {},
   "outputs": [],
   "source": [
    "laptops_rating.info()"
   ]
  },
  {
   "cell_type": "code",
   "execution_count": null,
   "metadata": {},
   "outputs": [],
   "source": [
    "laptops_rating.head()"
   ]
  },
  {
   "cell_type": "code",
   "execution_count": null,
   "metadata": {},
   "outputs": [],
   "source": [
    "laptops_rating.to_csv('laptops_rating2020.csv')"
   ]
  },
  {
   "cell_type": "markdown",
   "metadata": {},
   "source": [
    "# Data cleaning"
   ]
  },
  {
   "cell_type": "code",
   "execution_count": null,
   "metadata": {},
   "outputs": [],
   "source": [
    "laptops_rating['prices'].iloc[0]"
   ]
  },
  {
   "cell_type": "code",
   "execution_count": null,
   "metadata": {},
   "outputs": [],
   "source": [
    "def prix(x):\n",
    "    if ',' in x:\n",
    "        x = x.replace(',','')\n",
    "        return float(x[1:])\n",
    "    else:\n",
    "        return float(x[1:])"
   ]
  },
  {
   "cell_type": "code",
   "execution_count": null,
   "metadata": {},
   "outputs": [],
   "source": [
    "laptops_rating['prices'] = [prix(x) for x in laptops_rating['prices']]"
   ]
  },
  {
   "cell_type": "code",
   "execution_count": null,
   "metadata": {},
   "outputs": [],
   "source": [
    "laptops_rating['prices'].iloc[0]"
   ]
  },
  {
   "cell_type": "code",
   "execution_count": null,
   "metadata": {},
   "outputs": [],
   "source": [
    "def Remove_parenthese(x):\n",
    "    y = len(x)-1\n",
    "    z = x[1:y]\n",
    "    z = float(z)\n",
    "    return z"
   ]
  },
  {
   "cell_type": "code",
   "execution_count": null,
   "metadata": {},
   "outputs": [],
   "source": [
    "laptops_rating['votes'] = [Remove_parenthese(x) for x in laptops_rating['votes']]"
   ]
  },
  {
   "cell_type": "code",
   "execution_count": null,
   "metadata": {},
   "outputs": [],
   "source": [
    "float(laptops_rating['votes'].iloc[120])"
   ]
  },
  {
   "cell_type": "markdown",
   "metadata": {},
   "source": [
    "# Descriptive statistic measures of the data"
   ]
  },
  {
   "cell_type": "code",
   "execution_count": null,
   "metadata": {},
   "outputs": [],
   "source": [
    "laptops_rating[['prices', 'ratings', 'votes']].describe()"
   ]
  },
  {
   "cell_type": "code",
   "execution_count": null,
   "metadata": {},
   "outputs": [],
   "source": [
    "dfmax = laptops_rating[df['votes']==5977.000000]"
   ]
  },
  {
   "cell_type": "code",
   "execution_count": null,
   "metadata": {},
   "outputs": [],
   "source": [
    "dfmax[['laptops', 'prices', 'ratings']]"
   ]
  },
  {
   "cell_type": "code",
   "execution_count": null,
   "metadata": {},
   "outputs": [],
   "source": [
    "dfmax_ratings = df[df['ratings']==100.0]"
   ]
  },
  {
   "cell_type": "code",
   "execution_count": null,
   "metadata": {},
   "outputs": [],
   "source": [
    "dfmax_ratings[['laptops', 'prices', 'votes']]"
   ]
  },
  {
   "cell_type": "code",
   "execution_count": null,
   "metadata": {},
   "outputs": [],
   "source": [
    "dfmax_ratings['votes'].max()"
   ]
  },
  {
   "cell_type": "markdown",
   "metadata": {},
   "source": [
    "# Plotting and analyzing the distributions"
   ]
  },
  {
   "cell_type": "code",
   "execution_count": null,
   "metadata": {},
   "outputs": [],
   "source": [
    "import matplotlib.pyplot as plt\n",
    "%matplotlib inline"
   ]
  },
  {
   "cell_type": "code",
   "execution_count": null,
   "metadata": {},
   "outputs": [],
   "source": [
    "laptops_rating[['prices', 'ratings', 'votes']].hist(bins=20, figsize = (16,8))\n",
    "plt.show()"
   ]
  },
  {
   "cell_type": "code",
   "execution_count": null,
   "metadata": {},
   "outputs": [],
   "source": [
    "import matplotlib.pyplot as plt\n",
    "%matplotlib inline\n",
    "\n",
    "fig, axes = plt.subplots(nrows = 1, ncols = 3, figsize = (16,4))\n",
    "ax1, ax2, ax3 = fig.axes\n",
    "\n",
    "ax1.boxplot(laptops_rating['prices']) # bin range = 1\n",
    "ax1.set_title('Prices')\n",
    "\n",
    "ax2.boxplot(laptops_rating['ratings']) # bin range = 10\n",
    "ax2.set_title('Ratings')\n",
    "\n",
    "ax3.boxplot(laptops_rating['votes'])\n",
    "ax3.set_title('Votes')\n",
    "\n",
    "for ax in fig.axes:\n",
    "    ax.spines['top'].set_visible(False)\n",
    "    ax.spines['right'].set_visible(False)\n",
    "\n",
    "plt.show()"
   ]
  },
  {
   "cell_type": "code",
   "execution_count": null,
   "metadata": {},
   "outputs": [],
   "source": []
  }
 ],
 "metadata": {
  "kernelspec": {
   "display_name": "Python 3.7.6 64-bit ('east_env': conda)",
   "language": "python",
   "name": "python37664biteastenvconda0fd6a6ec018a4ec0b37c15af2a315578"
  },
  "language_info": {
   "codemirror_mode": {
    "name": "ipython",
    "version": 3
   },
   "file_extension": ".py",
   "mimetype": "text/x-python",
   "name": "python",
   "nbconvert_exporter": "python",
   "pygments_lexer": "ipython3",
   "version": "3.7.6-final"
  }
 },
 "nbformat": 4,
 "nbformat_minor": 2
}