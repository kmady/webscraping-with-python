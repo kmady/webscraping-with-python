{
 "cells": [
  {
   "cell_type": "markdown",
   "metadata": {},
   "source": [
    "# Scraping Laptops data from bestbuy canada website\n"
   ]
  },
  {
   "cell_type": "markdown",
   "metadata": {},
   "source": [
    "This is an example of data scraping from bestbuy canada website. I follow the tutorial from Datarequest to collect this data. I just look at the laptops price. \n",
    "I clean, look at the desciptive statistic measures  and visualize it."
   ]
  },
  {
   "cell_type": "code",
   "execution_count": 1,
   "metadata": {},
   "outputs": [
    {
     "name": "stdout",
     "output_type": "stream",
     "text": [
      "\r\n",
      "\r\n",
      "<!doctype html>\r\n",
      "<html xmlns=\"http://www.w3.org/1999/xhtml\" lang=\"en-CA\" xml:lang=\"en-CA\" data-ng-app='plp'>\r\n",
      "\r\n",
      "<head id=\"ctl00_Head1\" code-version=\"4.22.0.15\"><script type=\"text/javascript\">\r\n",
      "    var data_layer = {\"section\":\"Main\",\"template\":\"Subclass\",\"subTemplate\":\"SkuListingList\",\"breadcrumb2\":\"Computers & Tablets\",\"breadcrumb3\":\"Laptops & MacBooks\",\"breadcrumb4\":null,\"breadcrumb5\":null,\"breadcrumb6\":null,\"language\":\"English\",\"recognized\":\"Anonymous\",\"pageIdentifier\":\"Laptops & MacBooks\",\"storeID\":null,\"catID\":\"20352\",\"prodRating\":\"\",\"numProdReviews\":\"\",\"sellerRating\":null,\"numSellerReviews\":null,\"prodID\":[],\"prodPrice\":[],\"prodQty\":[],\"prodSavings\":[],\"prodDiscount\":[],\"prodTotalSavings\":[],\"prodName\":[],\"prodShippingPrice\":[],\"productBundle\":[],\"bundlePrice\":[],\"bundleQty\":[],\"bundleName\":[],\"bundleSavings\":[],\"bundleDiscount\":[],\"bundleTotalSavings\":[],\"orderLevelDiscount\":null,\"productType\":[],\"skuType\":[],\"daysToDeliver\":[],\"brandStore\":null,\"brand\":null,\"productOnSale\":nu\n"
     ]
    }
   ],
   "source": [
    "from requests import get\n",
    "url = 'https://www.bestbuy.ca/en-ca/category/laptops-macbooks/20352.aspx?type=product&page=1&filter=category%253aComputers%2B%2526%2BTablets%253bcategory%253aLaptops%2B%2526%2BMacBooks%253bcustom0ramsize%253a4'\n",
    "response = get(url)\n",
    "print(response.text[:1000])"
   ]
  },
  {
   "cell_type": "markdown",
   "metadata": {},
   "source": [
    "## Use beautifulSoup to parse the HTML content"
   ]
  },
  {
   "cell_type": "code",
   "execution_count": 5,
   "metadata": {},
   "outputs": [
    {
     "data": {
      "text/plain": [
       "bs4.BeautifulSoup"
      ]
     },
     "execution_count": 5,
     "metadata": {},
     "output_type": "execute_result"
    }
   ],
   "source": [
    "from bs4 import BeautifulSoup\n",
    "\n",
    "html_soup = BeautifulSoup(response.text, 'html.parser')\n",
    "type(html_soup)"
   ]
  },
  {
   "cell_type": "code",
   "execution_count": 6,
   "metadata": {},
   "outputs": [
    {
     "name": "stdout",
     "output_type": "stream",
     "text": [
      "<class 'bs4.element.ResultSet'>\n",
      "32\n"
     ]
    }
   ],
   "source": [
    "laptop_containers = html_soup.find_all('li', class_='listing-item equal-height-container')\n",
    "print(type(laptop_containers))\n",
    "print(len(laptop_containers))"
   ]
  },
  {
   "cell_type": "code",
   "execution_count": 7,
   "metadata": {},
   "outputs": [
    {
     "name": "stdout",
     "output_type": "stream",
     "text": [
      "<class 'bs4.element.ResultSet'>\n",
      "32\n"
     ]
    }
   ],
   "source": [
    "laptop_containers = html_soup.find_all('div', class_='item-inner clearfix')\n",
    "print(type(laptop_containers))\n",
    "print(len(laptop_containers))"
   ]
  },
  {
   "cell_type": "markdown",
   "metadata": {},
   "source": [
    "## Extracting the data for a single laptop\n",
    "We can access the first container, which contains information about a single laptop, by using list notation on laptop_containers."
   ]
  },
  {
   "cell_type": "code",
   "execution_count": 8,
   "metadata": {},
   "outputs": [],
   "source": [
    "first_laptop = laptop_containers[0]"
   ]
  },
  {
   "cell_type": "code",
   "execution_count": 9,
   "metadata": {},
   "outputs": [
    {
     "data": {
      "text/plain": [
       "<div class=\"item-inner clearfix\">\n",
       "<div class=\"prod-image\">\n",
       "<a href=\"/en-ca/product/asus-14-laptop-star-grey-intel-dual-core-celeron-n3060-64gb-emmc-hdd-4gb-ram-windows-10/12315112.aspx?\"><img height=\"150\" src=\"https://multimedia.bbycastatic.ca/multimedia/products/150x150/123/12315/12315112.jpg\" width=\"150\"/></a>\n",
       "<div class=\"compare-checkbox\">\n",
       "<label>\n",
       "<input data-sku=\"12315112\" type=\"checkbox\"/>\n",
       "<span>Compare</span>\n",
       "</label>\n",
       "<a class=\"btn btn-compare hidden\" href=\"#\">Compare selections</a>\n",
       "</div>\n",
       "</div><!-- prod-image end-->\n",
       "<div class=\"prod-info\">\n",
       "<div class=\"price-wrapper price-medium\">\n",
       "<div class=\"prodprice\">\n",
       "<span class=\"amount\">$350.89</span>\n",
       "</div>\n",
       "<!--<div class=\"prod-ehf\"> + $0.90 Environmental Handling Fee</div>-->\n",
       "<div class=\"prod-ehf\"> $349.99 + $0.90 Environmental Handling Fee</div>\n",
       "</div>\n",
       "<h4 class=\"prod-title\"><a href=\"/en-ca/product/asus-14-laptop-star-grey-intel-dual-core-celeron-n3060-64gb-emmc-hdd-4gb-ram-windows-10/12315112.aspx?\">ASUS 14\" Laptop - Star Grey (Intel Dual-Core Celeron N3060/64GB eMMC HDD/4GB RAM/Windows 10)</a></h4>\n",
       "<div class=\"prod-rating core-components core-utilities\">\n",
       "<div class=\"rating-stars-small inline-block margin-right-one\" itemprop=\"reviewRating\" itemscope=\"\" itemtype=\"http://schema.org/Rating\">\n",
       "<div class=\"rating-stars-gray\">\n",
       "<i class=\"icon-bby-star-filled\"></i>\n",
       "<i class=\"icon-bby-star-filled\"></i>\n",
       "<i class=\"icon-bby-star-filled\"></i>\n",
       "<i class=\"icon-bby-star-filled\"></i>\n",
       "<i class=\"icon-bby-star-filled\"></i>\n",
       "</div>\n",
       "<div class=\"rating-stars-yellow\" style=\"width: 100%;\">\n",
       "<i class=\"icon-bby-star-filled star-yellow\"></i>\n",
       "<i class=\"icon-bby-star-filled star-yellow\"></i>\n",
       "<i class=\"icon-bby-star-filled star-yellow\"></i>\n",
       "<i class=\"icon-bby-star-filled star-yellow\"></i>\n",
       "<i class=\"icon-bby-star-filled star-yellow\"></i>\n",
       "</div>\n",
       "</div>\n",
       "<div class=\"rating-num\">(1)</div>\n",
       "</div>\n",
       "<ul class=\"prod-availability list-layout-prod-availability\" data-sku=\"12315112\">\n",
       "</ul>\n",
       "</div>\n",
       "<!-- prod-info end-->\n",
       "<ul class=\"prod-availability grid-layout-prod-availability\" data-sku=\"12315112\">\n",
       "</ul>\n",
       "</div>"
      ]
     },
     "execution_count": 9,
     "metadata": {},
     "output_type": "execute_result"
    }
   ],
   "source": [
    "first_laptop"
   ]
  },
  {
   "cell_type": "markdown",
   "metadata": {},
   "source": [
    "## The laptop name"
   ]
  },
  {
   "cell_type": "code",
   "execution_count": 10,
   "metadata": {},
   "outputs": [
    {
     "data": {
      "text/plain": [
       "<div class=\"prod-image\">\n",
       "<a href=\"/en-ca/product/asus-14-laptop-star-grey-intel-dual-core-celeron-n3060-64gb-emmc-hdd-4gb-ram-windows-10/12315112.aspx?\"><img height=\"150\" src=\"https://multimedia.bbycastatic.ca/multimedia/products/150x150/123/12315/12315112.jpg\" width=\"150\"/></a>\n",
       "<div class=\"compare-checkbox\">\n",
       "<label>\n",
       "<input data-sku=\"12315112\" type=\"checkbox\"/>\n",
       "<span>Compare</span>\n",
       "</label>\n",
       "<a class=\"btn btn-compare hidden\" href=\"#\">Compare selections</a>\n",
       "</div>\n",
       "</div>"
      ]
     },
     "execution_count": 10,
     "metadata": {},
     "output_type": "execute_result"
    }
   ],
   "source": [
    "first_laptop.div"
   ]
  },
  {
   "cell_type": "code",
   "execution_count": 11,
   "metadata": {},
   "outputs": [
    {
     "data": {
      "text/plain": [
       "<a href=\"/en-ca/product/asus-14-laptop-star-grey-intel-dual-core-celeron-n3060-64gb-emmc-hdd-4gb-ram-windows-10/12315112.aspx?\"><img height=\"150\" src=\"https://multimedia.bbycastatic.ca/multimedia/products/150x150/123/12315/12315112.jpg\" width=\"150\"/></a>"
      ]
     },
     "execution_count": 11,
     "metadata": {},
     "output_type": "execute_result"
    }
   ],
   "source": [
    "first_laptop.a"
   ]
  },
  {
   "cell_type": "code",
   "execution_count": 12,
   "metadata": {},
   "outputs": [
    {
     "data": {
      "text/plain": [
       "<h4 class=\"prod-title\"><a href=\"/en-ca/product/asus-14-laptop-star-grey-intel-dual-core-celeron-n3060-64gb-emmc-hdd-4gb-ram-windows-10/12315112.aspx?\">ASUS 14\" Laptop - Star Grey (Intel Dual-Core Celeron N3060/64GB eMMC HDD/4GB RAM/Windows 10)</a></h4>"
      ]
     },
     "execution_count": 12,
     "metadata": {},
     "output_type": "execute_result"
    }
   ],
   "source": [
    "first_laptop.h4"
   ]
  },
  {
   "cell_type": "code",
   "execution_count": 13,
   "metadata": {},
   "outputs": [
    {
     "data": {
      "text/plain": [
       "<a href=\"/en-ca/product/asus-14-laptop-star-grey-intel-dual-core-celeron-n3060-64gb-emmc-hdd-4gb-ram-windows-10/12315112.aspx?\">ASUS 14\" Laptop - Star Grey (Intel Dual-Core Celeron N3060/64GB eMMC HDD/4GB RAM/Windows 10)</a>"
      ]
     },
     "execution_count": 13,
     "metadata": {},
     "output_type": "execute_result"
    }
   ],
   "source": [
    "first_laptop.h4.a"
   ]
  },
  {
   "cell_type": "code",
   "execution_count": 14,
   "metadata": {},
   "outputs": [],
   "source": [
    "first_name = first_laptop.h4.a.text"
   ]
  },
  {
   "cell_type": "code",
   "execution_count": 15,
   "metadata": {},
   "outputs": [
    {
     "data": {
      "text/plain": [
       "'ASUS 14\" Laptop - Star Grey (Intel Dual-Core Celeron N3060/64GB eMMC HDD/4GB RAM/Windows 10)'"
      ]
     },
     "execution_count": 15,
     "metadata": {},
     "output_type": "execute_result"
    }
   ],
   "source": [
    "first_name"
   ]
  },
  {
   "cell_type": "markdown",
   "metadata": {},
   "source": [
    "## Laptop price"
   ]
  },
  {
   "cell_type": "code",
   "execution_count": 16,
   "metadata": {},
   "outputs": [],
   "source": [
    "first_price = first_laptop.find('span', class_='amount')"
   ]
  },
  {
   "cell_type": "code",
   "execution_count": 17,
   "metadata": {},
   "outputs": [
    {
     "data": {
      "text/plain": [
       "<span class=\"amount\">$350.89</span>"
      ]
     },
     "execution_count": 17,
     "metadata": {},
     "output_type": "execute_result"
    }
   ],
   "source": [
    "first_price"
   ]
  },
  {
   "cell_type": "code",
   "execution_count": 18,
   "metadata": {},
   "outputs": [],
   "source": [
    "first_price = first_price.text"
   ]
  },
  {
   "cell_type": "code",
   "execution_count": 19,
   "metadata": {},
   "outputs": [
    {
     "data": {
      "text/plain": [
       "'$350.89'"
      ]
     },
     "execution_count": 19,
     "metadata": {},
     "output_type": "execute_result"
    }
   ],
   "source": [
    "first_price"
   ]
  },
  {
   "cell_type": "markdown",
   "metadata": {},
   "source": [
    "## Laptop rating"
   ]
  },
  {
   "cell_type": "code",
   "execution_count": 20,
   "metadata": {},
   "outputs": [],
   "source": [
    "def Rating(c):\n",
    "    c = c.find('div', class_=\"rating-stars-yellow\")\n",
    "    c = c['style']\n",
    "    c = c.split()[1]\n",
    "    c = float(c[:-2])\n",
    "    return c"
   ]
  },
  {
   "cell_type": "code",
   "execution_count": 21,
   "metadata": {},
   "outputs": [
    {
     "data": {
      "text/plain": [
       "100.0"
      ]
     },
     "execution_count": 21,
     "metadata": {},
     "output_type": "execute_result"
    }
   ],
   "source": [
    "Rating(first_laptop)"
   ]
  },
  {
   "cell_type": "markdown",
   "metadata": {},
   "source": [
    "## Number of votes"
   ]
  },
  {
   "cell_type": "code",
   "execution_count": 22,
   "metadata": {},
   "outputs": [],
   "source": [
    "first_vote = first_laptop.find('div', class_=\"rating-num\")"
   ]
  },
  {
   "cell_type": "code",
   "execution_count": 23,
   "metadata": {},
   "outputs": [],
   "source": [
    "first_vote = first_vote.text"
   ]
  },
  {
   "cell_type": "code",
   "execution_count": 24,
   "metadata": {},
   "outputs": [
    {
     "data": {
      "text/plain": [
       "'(1)'"
      ]
     },
     "execution_count": 24,
     "metadata": {},
     "output_type": "execute_result"
    }
   ],
   "source": [
    "first_vote"
   ]
  },
  {
   "cell_type": "markdown",
   "metadata": {},
   "source": [
    "## The script for a single page\n"
   ]
  },
  {
   "cell_type": "code",
   "execution_count": 25,
   "metadata": {},
   "outputs": [],
   "source": [
    "# Lists to store the scraped data in\n",
    "names = []\n",
    "prices = []\n",
    "ratings = []\n",
    "votes = []\n",
    "\n",
    "# Extract data from individual movie container\n",
    "for container in laptop_containers:\n",
    "\n",
    "    # If the movie has Metascore, then extract:\n",
    "    if container.find('div',  class_='rating-stars-yellow') is not None:\n",
    "\n",
    "        # The name\n",
    "        name = first_laptop.h4.a.text\n",
    "        names.append(name)\n",
    "\n",
    "        # The price\n",
    "        price = container.find('span', class_='amount').text\n",
    "        prices.append(price)\n",
    "\n",
    "        # The rating\n",
    "        rating = Rating(container)\n",
    "        ratings.append(rating)\n",
    "\n",
    "        # The number of votes\n",
    "        vote = container.find('div', class_=\"rating-num\").text\n",
    "        votes.append(vote)"
   ]
  },
  {
   "cell_type": "code",
   "execution_count": 26,
   "metadata": {},
   "outputs": [
    {
     "name": "stdout",
     "output_type": "stream",
     "text": [
      "<class 'pandas.core.frame.DataFrame'>\n",
      "RangeIndex: 22 entries, 0 to 21\n",
      "Data columns (total 4 columns):\n",
      "laptop    22 non-null object\n",
      "price     22 non-null object\n",
      "rating    22 non-null float64\n",
      "votes     22 non-null object\n",
      "dtypes: float64(1), object(3)\n",
      "memory usage: 784.0+ bytes\n",
      "None\n"
     ]
    },
    {
     "data": {
      "text/html": [
       "<div>\n",
       "<style scoped>\n",
       "    .dataframe tbody tr th:only-of-type {\n",
       "        vertical-align: middle;\n",
       "    }\n",
       "\n",
       "    .dataframe tbody tr th {\n",
       "        vertical-align: top;\n",
       "    }\n",
       "\n",
       "    .dataframe thead th {\n",
       "        text-align: right;\n",
       "    }\n",
       "</style>\n",
       "<table border=\"1\" class=\"dataframe\">\n",
       "  <thead>\n",
       "    <tr style=\"text-align: right;\">\n",
       "      <th></th>\n",
       "      <th>laptop</th>\n",
       "      <th>price</th>\n",
       "      <th>rating</th>\n",
       "      <th>votes</th>\n",
       "    </tr>\n",
       "  </thead>\n",
       "  <tbody>\n",
       "    <tr>\n",
       "      <th>0</th>\n",
       "      <td>ASUS 14\" Laptop - Star Grey (Intel Dual-Core C...</td>\n",
       "      <td>$350.89</td>\n",
       "      <td>100.0</td>\n",
       "      <td>(1)</td>\n",
       "    </tr>\n",
       "    <tr>\n",
       "      <th>1</th>\n",
       "      <td>ASUS 14\" Laptop - Star Grey (Intel Dual-Core C...</td>\n",
       "      <td>$199.00</td>\n",
       "      <td>80.0</td>\n",
       "      <td>(4)</td>\n",
       "    </tr>\n",
       "    <tr>\n",
       "      <th>2</th>\n",
       "      <td>ASUS 14\" Laptop - Star Grey (Intel Dual-Core C...</td>\n",
       "      <td>$500.89</td>\n",
       "      <td>73.4</td>\n",
       "      <td>(3)</td>\n",
       "    </tr>\n",
       "    <tr>\n",
       "      <th>3</th>\n",
       "      <td>ASUS 14\" Laptop - Star Grey (Intel Dual-Core C...</td>\n",
       "      <td>$360.89</td>\n",
       "      <td>100.0</td>\n",
       "      <td>(1)</td>\n",
       "    </tr>\n",
       "    <tr>\n",
       "      <th>4</th>\n",
       "      <td>ASUS 14\" Laptop - Star Grey (Intel Dual-Core C...</td>\n",
       "      <td>$300.89</td>\n",
       "      <td>52.4</td>\n",
       "      <td>(21)</td>\n",
       "    </tr>\n",
       "    <tr>\n",
       "      <th>5</th>\n",
       "      <td>ASUS 14\" Laptop - Star Grey (Intel Dual-Core C...</td>\n",
       "      <td>$300.89</td>\n",
       "      <td>66.6</td>\n",
       "      <td>(3)</td>\n",
       "    </tr>\n",
       "    <tr>\n",
       "      <th>6</th>\n",
       "      <td>ASUS 14\" Laptop - Star Grey (Intel Dual-Core C...</td>\n",
       "      <td>$360.89</td>\n",
       "      <td>71.2</td>\n",
       "      <td>(18)</td>\n",
       "    </tr>\n",
       "    <tr>\n",
       "      <th>7</th>\n",
       "      <td>ASUS 14\" Laptop - Star Grey (Intel Dual-Core C...</td>\n",
       "      <td>$1,300.89</td>\n",
       "      <td>93.8</td>\n",
       "      <td>(80)</td>\n",
       "    </tr>\n",
       "    <tr>\n",
       "      <th>8</th>\n",
       "      <td>ASUS 14\" Laptop - Star Grey (Intel Dual-Core C...</td>\n",
       "      <td>$350.99</td>\n",
       "      <td>100.0</td>\n",
       "      <td>(1)</td>\n",
       "    </tr>\n",
       "    <tr>\n",
       "      <th>9</th>\n",
       "      <td>ASUS 14\" Laptop - Star Grey (Intel Dual-Core C...</td>\n",
       "      <td>$350.89</td>\n",
       "      <td>53.8</td>\n",
       "      <td>(32)</td>\n",
       "    </tr>\n",
       "    <tr>\n",
       "      <th>10</th>\n",
       "      <td>ASUS 14\" Laptop - Star Grey (Intel Dual-Core C...</td>\n",
       "      <td>$300.89</td>\n",
       "      <td>69.6</td>\n",
       "      <td>(25)</td>\n",
       "    </tr>\n",
       "    <tr>\n",
       "      <th>11</th>\n",
       "      <td>ASUS 14\" Laptop - Star Grey (Intel Dual-Core C...</td>\n",
       "      <td>$360.89</td>\n",
       "      <td>75.8</td>\n",
       "      <td>(14)</td>\n",
       "    </tr>\n",
       "    <tr>\n",
       "      <th>12</th>\n",
       "      <td>ASUS 14\" Laptop - Star Grey (Intel Dual-Core C...</td>\n",
       "      <td>$500.89</td>\n",
       "      <td>82.0</td>\n",
       "      <td>(20)</td>\n",
       "    </tr>\n",
       "    <tr>\n",
       "      <th>13</th>\n",
       "      <td>ASUS 14\" Laptop - Star Grey (Intel Dual-Core C...</td>\n",
       "      <td>$550.89</td>\n",
       "      <td>80.0</td>\n",
       "      <td>(7)</td>\n",
       "    </tr>\n",
       "    <tr>\n",
       "      <th>14</th>\n",
       "      <td>ASUS 14\" Laptop - Star Grey (Intel Dual-Core C...</td>\n",
       "      <td>$500.89</td>\n",
       "      <td>80.0</td>\n",
       "      <td>(3)</td>\n",
       "    </tr>\n",
       "    <tr>\n",
       "      <th>15</th>\n",
       "      <td>ASUS 14\" Laptop - Star Grey (Intel Dual-Core C...</td>\n",
       "      <td>$650.89</td>\n",
       "      <td>77.2</td>\n",
       "      <td>(7)</td>\n",
       "    </tr>\n",
       "    <tr>\n",
       "      <th>16</th>\n",
       "      <td>ASUS 14\" Laptop - Star Grey (Intel Dual-Core C...</td>\n",
       "      <td>$400.89</td>\n",
       "      <td>60.0</td>\n",
       "      <td>(2)</td>\n",
       "    </tr>\n",
       "    <tr>\n",
       "      <th>17</th>\n",
       "      <td>ASUS 14\" Laptop - Star Grey (Intel Dual-Core C...</td>\n",
       "      <td>$800.89</td>\n",
       "      <td>82.6</td>\n",
       "      <td>(16)</td>\n",
       "    </tr>\n",
       "    <tr>\n",
       "      <th>18</th>\n",
       "      <td>ASUS 14\" Laptop - Star Grey (Intel Dual-Core C...</td>\n",
       "      <td>$550.89</td>\n",
       "      <td>80.0</td>\n",
       "      <td>(1)</td>\n",
       "    </tr>\n",
       "    <tr>\n",
       "      <th>19</th>\n",
       "      <td>ASUS 14\" Laptop - Star Grey (Intel Dual-Core C...</td>\n",
       "      <td>$380.89</td>\n",
       "      <td>60.0</td>\n",
       "      <td>(2)</td>\n",
       "    </tr>\n",
       "    <tr>\n",
       "      <th>20</th>\n",
       "      <td>ASUS 14\" Laptop - Star Grey (Intel Dual-Core C...</td>\n",
       "      <td>$280.89</td>\n",
       "      <td>38.4</td>\n",
       "      <td>(13)</td>\n",
       "    </tr>\n",
       "    <tr>\n",
       "      <th>21</th>\n",
       "      <td>ASUS 14\" Laptop - Star Grey (Intel Dual-Core C...</td>\n",
       "      <td>$498.88</td>\n",
       "      <td>100.0</td>\n",
       "      <td>(1)</td>\n",
       "    </tr>\n",
       "  </tbody>\n",
       "</table>\n",
       "</div>"
      ],
      "text/plain": [
       "                                               laptop      price  rating votes\n",
       "0   ASUS 14\" Laptop - Star Grey (Intel Dual-Core C...    $350.89   100.0   (1)\n",
       "1   ASUS 14\" Laptop - Star Grey (Intel Dual-Core C...    $199.00    80.0   (4)\n",
       "2   ASUS 14\" Laptop - Star Grey (Intel Dual-Core C...    $500.89    73.4   (3)\n",
       "3   ASUS 14\" Laptop - Star Grey (Intel Dual-Core C...    $360.89   100.0   (1)\n",
       "4   ASUS 14\" Laptop - Star Grey (Intel Dual-Core C...    $300.89    52.4  (21)\n",
       "5   ASUS 14\" Laptop - Star Grey (Intel Dual-Core C...    $300.89    66.6   (3)\n",
       "6   ASUS 14\" Laptop - Star Grey (Intel Dual-Core C...    $360.89    71.2  (18)\n",
       "7   ASUS 14\" Laptop - Star Grey (Intel Dual-Core C...  $1,300.89    93.8  (80)\n",
       "8   ASUS 14\" Laptop - Star Grey (Intel Dual-Core C...    $350.99   100.0   (1)\n",
       "9   ASUS 14\" Laptop - Star Grey (Intel Dual-Core C...    $350.89    53.8  (32)\n",
       "10  ASUS 14\" Laptop - Star Grey (Intel Dual-Core C...    $300.89    69.6  (25)\n",
       "11  ASUS 14\" Laptop - Star Grey (Intel Dual-Core C...    $360.89    75.8  (14)\n",
       "12  ASUS 14\" Laptop - Star Grey (Intel Dual-Core C...    $500.89    82.0  (20)\n",
       "13  ASUS 14\" Laptop - Star Grey (Intel Dual-Core C...    $550.89    80.0   (7)\n",
       "14  ASUS 14\" Laptop - Star Grey (Intel Dual-Core C...    $500.89    80.0   (3)\n",
       "15  ASUS 14\" Laptop - Star Grey (Intel Dual-Core C...    $650.89    77.2   (7)\n",
       "16  ASUS 14\" Laptop - Star Grey (Intel Dual-Core C...    $400.89    60.0   (2)\n",
       "17  ASUS 14\" Laptop - Star Grey (Intel Dual-Core C...    $800.89    82.6  (16)\n",
       "18  ASUS 14\" Laptop - Star Grey (Intel Dual-Core C...    $550.89    80.0   (1)\n",
       "19  ASUS 14\" Laptop - Star Grey (Intel Dual-Core C...    $380.89    60.0   (2)\n",
       "20  ASUS 14\" Laptop - Star Grey (Intel Dual-Core C...    $280.89    38.4  (13)\n",
       "21  ASUS 14\" Laptop - Star Grey (Intel Dual-Core C...    $498.88   100.0   (1)"
      ]
     },
     "execution_count": 26,
     "metadata": {},
     "output_type": "execute_result"
    }
   ],
   "source": [
    "import pandas as pd\n",
    "\n",
    "test_df = pd.DataFrame({'laptop': names,\n",
    "                       'price': prices,\n",
    "                       'rating': ratings,\n",
    "                        'votes': votes})\n",
    "print(test_df.info())\n",
    "test_df"
   ]
  },
  {
   "cell_type": "code",
   "execution_count": 27,
   "metadata": {},
   "outputs": [],
   "source": [
    "headers = {\"Accept-Language\": \"en-US, en;q=0.5\"}"
   ]
  },
  {
   "cell_type": "markdown",
   "metadata": {},
   "source": [
    "## The script for multiple pages"
   ]
  },
  {
   "cell_type": "code",
   "execution_count": 28,
   "metadata": {},
   "outputs": [],
   "source": [
    "from IPython.core.display import clear_output"
   ]
  },
  {
   "cell_type": "code",
   "execution_count": 29,
   "metadata": {},
   "outputs": [
    {
     "name": "stderr",
     "output_type": "stream",
     "text": [
      "c:\\users\\karto\\anaconda3\\envs\\tfdemdah\\lib\\site-packages\\ipykernel_launcher.py:3: UserWarning: Warning Simulation\n",
      "  This is separate from the ipykernel package so we can avoid doing imports until\n"
     ]
    }
   ],
   "source": [
    "from warnings import warn\n",
    "\n",
    "warn(\"Warning Simulation\")"
   ]
  },
  {
   "cell_type": "code",
   "execution_count": 30,
   "metadata": {},
   "outputs": [],
   "source": [
    "pages = [str(i) for i in range(1,4)]\n",
    "Ram_url = ['2', '4',  '8', '12', '16','32']"
   ]
  },
  {
   "cell_type": "code",
   "execution_count": 31,
   "metadata": {},
   "outputs": [],
   "source": [
    "def URL(s,t):\n",
    "    url = 'https://www.bestbuy.ca/en-ca/category/laptops-macbooks/20352.aspx?type=product&page='+s+'&filter=category%253aComputers%2B%2526%2BTablets%253bcategory%253aLaptops%2B%2526%2BMacBooks%253bcustom0ramsize%253a8'+ t    \n",
    "    print(url)"
   ]
  },
  {
   "cell_type": "code",
   "execution_count": 32,
   "metadata": {},
   "outputs": [
    {
     "name": "stdout",
     "output_type": "stream",
     "text": [
      "https://www.bestbuy.ca/en-ca/category/laptops-macbooks/20352.aspx?type=product&page=s&filter=category%253aComputers%2B%2526%2BTablets%253bcategory%253aLaptops%2B%2526%2BMacBooks%253bcustom0ramsize%253a8t\n"
     ]
    }
   ],
   "source": [
    "URL('s','t')"
   ]
  },
  {
   "cell_type": "code",
   "execution_count": 38,
   "metadata": {},
   "outputs": [],
   "source": [
    "#url = 'https://www.bestbuy.ca/en-ca/category/laptops-macbooks/20352.aspx?type=product&page='+page+'&filter=category%253aComputers%2B%2526%2BTablets%253bcategory%253aLaptops%2B%2526%2BMacBooks%253bcustom0ramsize%253a8'+ ram_url"
   ]
  },
  {
   "cell_type": "code",
   "execution_count": 34,
   "metadata": {},
   "outputs": [
    {
     "data": {
      "text/plain": [
       "'https://www.bestbuy.ca/en-ca/category/laptops-macbooks/20352.aspx?type=product&page=1&filter=category%253aComputers%2B%2526%2BTablets%253bcategory%253aLaptops%2B%2526%2BMacBooks%253bcustom0ramsize%253a4'"
      ]
     },
     "execution_count": 34,
     "metadata": {},
     "output_type": "execute_result"
    }
   ],
   "source": [
    "url"
   ]
  },
  {
   "cell_type": "code",
   "execution_count": 35,
   "metadata": {},
   "outputs": [],
   "source": [
    "from time import sleep\n",
    "from random import randint\n",
    "from time import time"
   ]
  },
  {
   "cell_type": "code",
   "execution_count": 47,
   "metadata": {},
   "outputs": [],
   "source": [
    "pages = [str(i) for i in range(1,10)]\n",
    "Ram_url = ['2', '4',  '8', '12', '16','32', '64']"
   ]
  },
  {
   "cell_type": "code",
   "execution_count": 48,
   "metadata": {},
   "outputs": [
    {
     "name": "stdout",
     "output_type": "stream",
     "text": [
      "Request:63; Frequency: 0.08030690376079296 requests/s\n"
     ]
    }
   ],
   "source": [
    "# Redeclaring the lists to store data in\n",
    "names = []\n",
    "prices = []\n",
    "ratings = []\n",
    "votes = []\n",
    "\n",
    "# Preparing the monitoring of the loop\n",
    "start_time = time()\n",
    "requests = 0\n",
    "\n",
    "# For every number of Go of ram in Ram_url\n",
    "for ram_url in Ram_url:\n",
    "\n",
    "    # For every page in the interval 1-54\n",
    "    for page in pages:\n",
    "\n",
    "        # Make a get request\n",
    "        response = get('https://www.bestbuy.ca/en-ca/category/laptops-macbooks/20352.aspx?type=product&page='+page+'&filter=category%253aComputers%2B%2526%2BTablets%253bcategory%253aLaptops%2B%2526%2BMacBooks%253bcustom0ramsize%253a'+ ram_url, headers = headers)\n",
    "       \n",
    "\n",
    "        # Pause the loop\n",
    "        sleep(randint(8,15))\n",
    "\n",
    "        # Monitor the requests\n",
    "        requests += 1\n",
    "        elapsed_time = time() - start_time\n",
    "        print('Request:{}; Frequency: {} requests/s'.format(requests, requests/elapsed_time))\n",
    "        clear_output(wait = True)\n",
    "\n",
    "        # Throw a warning for non-200 status codes\n",
    "        if response.status_code != 200:\n",
    "            warn('Request: {}; Status code: {}'.format(requests, response.status_code))\n",
    "\n",
    "        # Break the loop if the number of requests is greater than expected\n",
    "        if requests > 95:\n",
    "            warn('Number of requests was greater than expected.')  \n",
    "            break \n",
    "\n",
    "        # Parse the content of the request with BeautifulSoup\n",
    "        page_html = BeautifulSoup(response.text, 'html.parser')\n",
    "\n",
    "        # Select all the laptop containers from a single page\n",
    "        laptops_containers = page_html.find_all('div',  class_='item-inner clearfix')\n",
    "\n",
    "        # For every movie of these 50\n",
    "        for container in laptops_containers:\n",
    "            # If the movie has a rating, then:\n",
    "            if container.find('div',  class_='rating-stars-yellow') is not None:\n",
    "\n",
    "                # Scrape the name\n",
    "                name = container.h4.a.text\n",
    "                names.append(name)\n",
    "\n",
    "                # Scrape the price \n",
    "                price = container.find('span', class_='amount').text\n",
    "                prices.append(price)\n",
    "\n",
    "                # Scrape the rating\n",
    "                rating = Rating(container)\n",
    "                ratings.append(rating)\n",
    "\n",
    "                \n",
    "                # Scrape the number of votes\n",
    "                vote = container.find('div', class_=\"rating-num\").text\n",
    "                votes.append(vote)"
   ]
  },
  {
   "cell_type": "code",
   "execution_count": 49,
   "metadata": {},
   "outputs": [],
   "source": [
    "laptops_rating = pd.DataFrame({'laptops': names,\n",
    "                       'prices': prices,\n",
    "                       'ratings': ratings,\n",
    "                        'votes': votes})"
   ]
  },
  {
   "cell_type": "code",
   "execution_count": 45,
   "metadata": {},
   "outputs": [
    {
     "name": "stdout",
     "output_type": "stream",
     "text": [
      "<class 'pandas.core.frame.DataFrame'>\n",
      "RangeIndex: 231 entries, 0 to 230\n",
      "Data columns (total 4 columns):\n",
      "laptops    231 non-null object\n",
      "prices     231 non-null object\n",
      "ratings    231 non-null float64\n",
      "votes      231 non-null object\n",
      "dtypes: float64(1), object(3)\n",
      "memory usage: 7.3+ KB\n"
     ]
    }
   ],
   "source": [
    "laptops_rating.info()"
   ]
  },
  {
   "cell_type": "code",
   "execution_count": 46,
   "metadata": {},
   "outputs": [],
   "source": [
    "laptops_rating.to_csv('laptops_rating.csv')"
   ]
  },
  {
   "cell_type": "code",
   "execution_count": 41,
   "metadata": {},
   "outputs": [
    {
     "data": {
      "text/html": [
       "<div>\n",
       "<style scoped>\n",
       "    .dataframe tbody tr th:only-of-type {\n",
       "        vertical-align: middle;\n",
       "    }\n",
       "\n",
       "    .dataframe tbody tr th {\n",
       "        vertical-align: top;\n",
       "    }\n",
       "\n",
       "    .dataframe thead th {\n",
       "        text-align: right;\n",
       "    }\n",
       "</style>\n",
       "<table border=\"1\" class=\"dataframe\">\n",
       "  <thead>\n",
       "    <tr style=\"text-align: right;\">\n",
       "      <th></th>\n",
       "      <th>laptops</th>\n",
       "      <th>prices</th>\n",
       "      <th>ratings</th>\n",
       "      <th>votes</th>\n",
       "    </tr>\n",
       "  </thead>\n",
       "  <tbody>\n",
       "    <tr>\n",
       "      <th>0</th>\n",
       "      <td>HP Chromebook 11 G3 11.6\" Laptop, Black, INTEL...</td>\n",
       "      <td>$179.99</td>\n",
       "      <td>80.0</td>\n",
       "      <td>(4)</td>\n",
       "    </tr>\n",
       "    <tr>\n",
       "      <th>1</th>\n",
       "      <td>ASUS Chromebook 11.6\" Rugged Laptop-Dark Grey ...</td>\n",
       "      <td>$260.89</td>\n",
       "      <td>58.2</td>\n",
       "      <td>(11)</td>\n",
       "    </tr>\n",
       "    <tr>\n",
       "      <th>2</th>\n",
       "      <td>Acer Chromebook 11.6\" Laptop - White (Intel Ce...</td>\n",
       "      <td>$230.85</td>\n",
       "      <td>68.0</td>\n",
       "      <td>(25)</td>\n",
       "    </tr>\n",
       "    <tr>\n",
       "      <th>3</th>\n",
       "      <td>Lenovo N23 80YS0000US 11.6\" LCD Chromebook - I...</td>\n",
       "      <td>$223.89</td>\n",
       "      <td>20.0</td>\n",
       "      <td>(1)</td>\n",
       "    </tr>\n",
       "    <tr>\n",
       "      <th>4</th>\n",
       "      <td>Lenovo N23 11.6\" Chromebook (Intel N3060/16GB ...</td>\n",
       "      <td>$280.99</td>\n",
       "      <td>40.0</td>\n",
       "      <td>(1)</td>\n",
       "    </tr>\n",
       "  </tbody>\n",
       "</table>\n",
       "</div>"
      ],
      "text/plain": [
       "                                             laptops   prices  ratings votes\n",
       "0  HP Chromebook 11 G3 11.6\" Laptop, Black, INTEL...  $179.99     80.0   (4)\n",
       "1  ASUS Chromebook 11.6\" Rugged Laptop-Dark Grey ...  $260.89     58.2  (11)\n",
       "2  Acer Chromebook 11.6\" Laptop - White (Intel Ce...  $230.85     68.0  (25)\n",
       "3  Lenovo N23 80YS0000US 11.6\" LCD Chromebook - I...  $223.89     20.0   (1)\n",
       "4  Lenovo N23 11.6\" Chromebook (Intel N3060/16GB ...  $280.99     40.0   (1)"
      ]
     },
     "execution_count": 41,
     "metadata": {},
     "output_type": "execute_result"
    }
   ],
   "source": [
    "laptops_rating.head()"
   ]
  },
  {
   "cell_type": "code",
   "execution_count": 85,
   "metadata": {},
   "outputs": [],
   "source": [
    "df = pd.read_csv('laptops_rating.csv')"
   ]
  },
  {
   "cell_type": "code",
   "execution_count": 86,
   "metadata": {},
   "outputs": [
    {
     "data": {
      "text/html": [
       "<div>\n",
       "<style scoped>\n",
       "    .dataframe tbody tr th:only-of-type {\n",
       "        vertical-align: middle;\n",
       "    }\n",
       "\n",
       "    .dataframe tbody tr th {\n",
       "        vertical-align: top;\n",
       "    }\n",
       "\n",
       "    .dataframe thead th {\n",
       "        text-align: right;\n",
       "    }\n",
       "</style>\n",
       "<table border=\"1\" class=\"dataframe\">\n",
       "  <thead>\n",
       "    <tr style=\"text-align: right;\">\n",
       "      <th></th>\n",
       "      <th>Unnamed: 0</th>\n",
       "      <th>laptops</th>\n",
       "      <th>prices</th>\n",
       "      <th>ratings</th>\n",
       "      <th>votes</th>\n",
       "    </tr>\n",
       "  </thead>\n",
       "  <tbody>\n",
       "    <tr>\n",
       "      <th>0</th>\n",
       "      <td>0</td>\n",
       "      <td>HP Chromebook 11 G3 11.6\" Laptop, Black, INTEL...</td>\n",
       "      <td>$179.99</td>\n",
       "      <td>80.0</td>\n",
       "      <td>(4)</td>\n",
       "    </tr>\n",
       "    <tr>\n",
       "      <th>1</th>\n",
       "      <td>1</td>\n",
       "      <td>ASUS Chromebook 11.6\" Rugged Laptop-Dark Grey ...</td>\n",
       "      <td>$260.89</td>\n",
       "      <td>58.2</td>\n",
       "      <td>(11)</td>\n",
       "    </tr>\n",
       "    <tr>\n",
       "      <th>2</th>\n",
       "      <td>2</td>\n",
       "      <td>Acer Chromebook 11.6\" Laptop - White (Intel Ce...</td>\n",
       "      <td>$230.85</td>\n",
       "      <td>68.0</td>\n",
       "      <td>(25)</td>\n",
       "    </tr>\n",
       "    <tr>\n",
       "      <th>3</th>\n",
       "      <td>3</td>\n",
       "      <td>Lenovo N23 80YS0000US 11.6\" LCD Chromebook - I...</td>\n",
       "      <td>$223.89</td>\n",
       "      <td>20.0</td>\n",
       "      <td>(1)</td>\n",
       "    </tr>\n",
       "    <tr>\n",
       "      <th>4</th>\n",
       "      <td>4</td>\n",
       "      <td>Lenovo N23 11.6\" Chromebook (Intel N3060/16GB ...</td>\n",
       "      <td>$280.99</td>\n",
       "      <td>40.0</td>\n",
       "      <td>(1)</td>\n",
       "    </tr>\n",
       "    <tr>\n",
       "      <th>5</th>\n",
       "      <td>5</td>\n",
       "      <td>HP 10.1\" Touchscreen Convertible Laptop - Turb...</td>\n",
       "      <td>$380.88</td>\n",
       "      <td>20.0</td>\n",
       "      <td>(2)</td>\n",
       "    </tr>\n",
       "    <tr>\n",
       "      <th>6</th>\n",
       "      <td>6</td>\n",
       "      <td>ASUS 14\" Laptop - Star Grey (Intel Dual-Core C...</td>\n",
       "      <td>$350.89</td>\n",
       "      <td>100.0</td>\n",
       "      <td>(1)</td>\n",
       "    </tr>\n",
       "    <tr>\n",
       "      <th>7</th>\n",
       "      <td>7</td>\n",
       "      <td>Refurbished HP 215 AMD A6-1450 1Ghz, 4GB Ram, ...</td>\n",
       "      <td>$199.00</td>\n",
       "      <td>80.0</td>\n",
       "      <td>(4)</td>\n",
       "    </tr>\n",
       "    <tr>\n",
       "      <th>8</th>\n",
       "      <td>8</td>\n",
       "      <td>ASUS VivoBook 15.6\" Laptop - Black/Gold (Intel...</td>\n",
       "      <td>$500.89</td>\n",
       "      <td>73.4</td>\n",
       "      <td>(3)</td>\n",
       "    </tr>\n",
       "    <tr>\n",
       "      <th>9</th>\n",
       "      <td>9</td>\n",
       "      <td>ASUS VivoBook 15.6\" Laptop - Black/Gold (Intel...</td>\n",
       "      <td>$360.89</td>\n",
       "      <td>100.0</td>\n",
       "      <td>(1)</td>\n",
       "    </tr>\n",
       "    <tr>\n",
       "      <th>10</th>\n",
       "      <td>10</td>\n",
       "      <td>HP Stream 14\" Laptop - Blue (Intel Celeron N30...</td>\n",
       "      <td>$300.89</td>\n",
       "      <td>52.4</td>\n",
       "      <td>(21)</td>\n",
       "    </tr>\n",
       "    <tr>\n",
       "      <th>11</th>\n",
       "      <td>11</td>\n",
       "      <td>Acer CB3 11.6\" Chromebook - White (Intel Celer...</td>\n",
       "      <td>$300.89</td>\n",
       "      <td>66.6</td>\n",
       "      <td>(3)</td>\n",
       "    </tr>\n",
       "    <tr>\n",
       "      <th>12</th>\n",
       "      <td>12</td>\n",
       "      <td>Acer Chromebook 11.6\" Touchscreen Laptop - Whi...</td>\n",
       "      <td>$360.89</td>\n",
       "      <td>71.2</td>\n",
       "      <td>(18)</td>\n",
       "    </tr>\n",
       "    <tr>\n",
       "      <th>13</th>\n",
       "      <td>13</td>\n",
       "      <td>Microsoft Surface Laptop 13.5\" - Platinum (Int...</td>\n",
       "      <td>$1,300.89</td>\n",
       "      <td>93.8</td>\n",
       "      <td>(80)</td>\n",
       "    </tr>\n",
       "    <tr>\n",
       "      <th>14</th>\n",
       "      <td>14</td>\n",
       "      <td>HP G4 14\" Chromebook (Intel Celeron N2840/16GB...</td>\n",
       "      <td>$350.99</td>\n",
       "      <td>100.0</td>\n",
       "      <td>(1)</td>\n",
       "    </tr>\n",
       "    <tr>\n",
       "      <th>15</th>\n",
       "      <td>15</td>\n",
       "      <td>HP 15.6\" Laptop - Grey (AMD E2-9000e / 500 GB ...</td>\n",
       "      <td>$350.89</td>\n",
       "      <td>53.8</td>\n",
       "      <td>(32)</td>\n",
       "    </tr>\n",
       "    <tr>\n",
       "      <th>16</th>\n",
       "      <td>16</td>\n",
       "      <td>Acer 10.1\" Touchscreen Convertible Laptop - Si...</td>\n",
       "      <td>$300.89</td>\n",
       "      <td>69.6</td>\n",
       "      <td>(25)</td>\n",
       "    </tr>\n",
       "    <tr>\n",
       "      <th>17</th>\n",
       "      <td>17</td>\n",
       "      <td>ASUS C301 13.3\" Chromebook -Metallic Grey (Int...</td>\n",
       "      <td>$360.89</td>\n",
       "      <td>75.8</td>\n",
       "      <td>(14)</td>\n",
       "    </tr>\n",
       "    <tr>\n",
       "      <th>18</th>\n",
       "      <td>18</td>\n",
       "      <td>Acer Chromebook R 13.3\" Touch Laptop - White (...</td>\n",
       "      <td>$500.89</td>\n",
       "      <td>82.0</td>\n",
       "      <td>(20)</td>\n",
       "    </tr>\n",
       "    <tr>\n",
       "      <th>19</th>\n",
       "      <td>19</td>\n",
       "      <td>HP Pavilion x360 11.6\" Touchscreen Convertible...</td>\n",
       "      <td>$550.89</td>\n",
       "      <td>80.0</td>\n",
       "      <td>(7)</td>\n",
       "    </tr>\n",
       "  </tbody>\n",
       "</table>\n",
       "</div>"
      ],
      "text/plain": [
       "    Unnamed: 0                                            laptops     prices  \\\n",
       "0            0  HP Chromebook 11 G3 11.6\" Laptop, Black, INTEL...    $179.99   \n",
       "1            1  ASUS Chromebook 11.6\" Rugged Laptop-Dark Grey ...    $260.89   \n",
       "2            2  Acer Chromebook 11.6\" Laptop - White (Intel Ce...    $230.85   \n",
       "3            3  Lenovo N23 80YS0000US 11.6\" LCD Chromebook - I...    $223.89   \n",
       "4            4  Lenovo N23 11.6\" Chromebook (Intel N3060/16GB ...    $280.99   \n",
       "5            5  HP 10.1\" Touchscreen Convertible Laptop - Turb...    $380.88   \n",
       "6            6  ASUS 14\" Laptop - Star Grey (Intel Dual-Core C...    $350.89   \n",
       "7            7  Refurbished HP 215 AMD A6-1450 1Ghz, 4GB Ram, ...    $199.00   \n",
       "8            8  ASUS VivoBook 15.6\" Laptop - Black/Gold (Intel...    $500.89   \n",
       "9            9  ASUS VivoBook 15.6\" Laptop - Black/Gold (Intel...    $360.89   \n",
       "10          10  HP Stream 14\" Laptop - Blue (Intel Celeron N30...    $300.89   \n",
       "11          11  Acer CB3 11.6\" Chromebook - White (Intel Celer...    $300.89   \n",
       "12          12  Acer Chromebook 11.6\" Touchscreen Laptop - Whi...    $360.89   \n",
       "13          13  Microsoft Surface Laptop 13.5\" - Platinum (Int...  $1,300.89   \n",
       "14          14  HP G4 14\" Chromebook (Intel Celeron N2840/16GB...    $350.99   \n",
       "15          15  HP 15.6\" Laptop - Grey (AMD E2-9000e / 500 GB ...    $350.89   \n",
       "16          16  Acer 10.1\" Touchscreen Convertible Laptop - Si...    $300.89   \n",
       "17          17  ASUS C301 13.3\" Chromebook -Metallic Grey (Int...    $360.89   \n",
       "18          18  Acer Chromebook R 13.3\" Touch Laptop - White (...    $500.89   \n",
       "19          19  HP Pavilion x360 11.6\" Touchscreen Convertible...    $550.89   \n",
       "\n",
       "    ratings votes  \n",
       "0      80.0   (4)  \n",
       "1      58.2  (11)  \n",
       "2      68.0  (25)  \n",
       "3      20.0   (1)  \n",
       "4      40.0   (1)  \n",
       "5      20.0   (2)  \n",
       "6     100.0   (1)  \n",
       "7      80.0   (4)  \n",
       "8      73.4   (3)  \n",
       "9     100.0   (1)  \n",
       "10     52.4  (21)  \n",
       "11     66.6   (3)  \n",
       "12     71.2  (18)  \n",
       "13     93.8  (80)  \n",
       "14    100.0   (1)  \n",
       "15     53.8  (32)  \n",
       "16     69.6  (25)  \n",
       "17     75.8  (14)  \n",
       "18     82.0  (20)  \n",
       "19     80.0   (7)  "
      ]
     },
     "execution_count": 86,
     "metadata": {},
     "output_type": "execute_result"
    }
   ],
   "source": [
    "df.head(20)"
   ]
  },
  {
   "cell_type": "code",
   "execution_count": 87,
   "metadata": {},
   "outputs": [
    {
     "name": "stdout",
     "output_type": "stream",
     "text": [
      "<class 'pandas.core.frame.DataFrame'>\n",
      "RangeIndex: 231 entries, 0 to 230\n",
      "Data columns (total 5 columns):\n",
      "Unnamed: 0    231 non-null int64\n",
      "laptops       231 non-null object\n",
      "prices        231 non-null object\n",
      "ratings       231 non-null float64\n",
      "votes         231 non-null object\n",
      "dtypes: float64(1), int64(1), object(3)\n",
      "memory usage: 9.1+ KB\n"
     ]
    }
   ],
   "source": [
    "df.info()"
   ]
  },
  {
   "cell_type": "markdown",
   "metadata": {},
   "source": [
    "# Data cleaning"
   ]
  },
  {
   "cell_type": "code",
   "execution_count": 88,
   "metadata": {},
   "outputs": [
    {
     "data": {
      "text/plain": [
       "'$179.99'"
      ]
     },
     "execution_count": 88,
     "metadata": {},
     "output_type": "execute_result"
    }
   ],
   "source": [
    "df['prices'].iloc[0]"
   ]
  },
  {
   "cell_type": "code",
   "execution_count": 89,
   "metadata": {},
   "outputs": [],
   "source": [
    "def prix(x):\n",
    "    if ',' in x:\n",
    "        x = x.replace(',','')\n",
    "        return float(x[1:])\n",
    "    else:\n",
    "        return float(x[1:])"
   ]
  },
  {
   "cell_type": "code",
   "execution_count": 90,
   "metadata": {},
   "outputs": [],
   "source": [
    "df['prices'] = [prix(x) for x in df['prices']]"
   ]
  },
  {
   "cell_type": "code",
   "execution_count": 91,
   "metadata": {},
   "outputs": [
    {
     "data": {
      "text/plain": [
       "179.99"
      ]
     },
     "execution_count": 91,
     "metadata": {},
     "output_type": "execute_result"
    }
   ],
   "source": [
    "df['prices'].iloc[0]"
   ]
  },
  {
   "cell_type": "code",
   "execution_count": 92,
   "metadata": {},
   "outputs": [],
   "source": [
    "def Remove_parenthese(x):\n",
    "    y = len(x)-1\n",
    "    z = x[1:y]\n",
    "    z = float(z)\n",
    "    return z"
   ]
  },
  {
   "cell_type": "code",
   "execution_count": 93,
   "metadata": {},
   "outputs": [],
   "source": [
    "df['votes'] = [Remove_parenthese(x) for x in df['votes']]"
   ]
  },
  {
   "cell_type": "code",
   "execution_count": 94,
   "metadata": {},
   "outputs": [
    {
     "data": {
      "text/plain": [
       "1.0"
      ]
     },
     "execution_count": 94,
     "metadata": {},
     "output_type": "execute_result"
    }
   ],
   "source": [
    "float(df['votes'].iloc[120])"
   ]
  },
  {
   "cell_type": "markdown",
   "metadata": {},
   "source": [
    "# Descriptive statistic measures of the data"
   ]
  },
  {
   "cell_type": "code",
   "execution_count": 109,
   "metadata": {},
   "outputs": [
    {
     "data": {
      "text/html": [
       "<div>\n",
       "<style scoped>\n",
       "    .dataframe tbody tr th:only-of-type {\n",
       "        vertical-align: middle;\n",
       "    }\n",
       "\n",
       "    .dataframe tbody tr th {\n",
       "        vertical-align: top;\n",
       "    }\n",
       "\n",
       "    .dataframe thead th {\n",
       "        text-align: right;\n",
       "    }\n",
       "</style>\n",
       "<table border=\"1\" class=\"dataframe\">\n",
       "  <thead>\n",
       "    <tr style=\"text-align: right;\">\n",
       "      <th></th>\n",
       "      <th>prices</th>\n",
       "      <th>ratings</th>\n",
       "      <th>votes</th>\n",
       "    </tr>\n",
       "  </thead>\n",
       "  <tbody>\n",
       "    <tr>\n",
       "      <th>count</th>\n",
       "      <td>231.000000</td>\n",
       "      <td>231.000000</td>\n",
       "      <td>231.000000</td>\n",
       "    </tr>\n",
       "    <tr>\n",
       "      <th>mean</th>\n",
       "      <td>1321.712251</td>\n",
       "      <td>71.926407</td>\n",
       "      <td>69.675325</td>\n",
       "    </tr>\n",
       "    <tr>\n",
       "      <th>std</th>\n",
       "      <td>1240.429794</td>\n",
       "      <td>24.144117</td>\n",
       "      <td>299.595761</td>\n",
       "    </tr>\n",
       "    <tr>\n",
       "      <th>min</th>\n",
       "      <td>179.990000</td>\n",
       "      <td>20.000000</td>\n",
       "      <td>1.000000</td>\n",
       "    </tr>\n",
       "    <tr>\n",
       "      <th>25%</th>\n",
       "      <td>560.440000</td>\n",
       "      <td>57.900000</td>\n",
       "      <td>2.000000</td>\n",
       "    </tr>\n",
       "    <tr>\n",
       "      <th>50%</th>\n",
       "      <td>950.890000</td>\n",
       "      <td>76.000000</td>\n",
       "      <td>5.000000</td>\n",
       "    </tr>\n",
       "    <tr>\n",
       "      <th>75%</th>\n",
       "      <td>1730.890000</td>\n",
       "      <td>95.800000</td>\n",
       "      <td>17.500000</td>\n",
       "    </tr>\n",
       "    <tr>\n",
       "      <th>max</th>\n",
       "      <td>10000.890000</td>\n",
       "      <td>100.000000</td>\n",
       "      <td>2904.000000</td>\n",
       "    </tr>\n",
       "  </tbody>\n",
       "</table>\n",
       "</div>"
      ],
      "text/plain": [
       "             prices     ratings        votes\n",
       "count    231.000000  231.000000   231.000000\n",
       "mean    1321.712251   71.926407    69.675325\n",
       "std     1240.429794   24.144117   299.595761\n",
       "min      179.990000   20.000000     1.000000\n",
       "25%      560.440000   57.900000     2.000000\n",
       "50%      950.890000   76.000000     5.000000\n",
       "75%     1730.890000   95.800000    17.500000\n",
       "max    10000.890000  100.000000  2904.000000"
      ]
     },
     "execution_count": 109,
     "metadata": {},
     "output_type": "execute_result"
    }
   ],
   "source": [
    "df[['prices', 'ratings', 'votes']].describe()"
   ]
  },
  {
   "cell_type": "code",
   "execution_count": 106,
   "metadata": {},
   "outputs": [],
   "source": [
    "dfmax = df[df['votes']==2904.0]"
   ]
  },
  {
   "cell_type": "code",
   "execution_count": 110,
   "metadata": {},
   "outputs": [
    {
     "data": {
      "text/html": [
       "<div>\n",
       "<style scoped>\n",
       "    .dataframe tbody tr th:only-of-type {\n",
       "        vertical-align: middle;\n",
       "    }\n",
       "\n",
       "    .dataframe tbody tr th {\n",
       "        vertical-align: top;\n",
       "    }\n",
       "\n",
       "    .dataframe thead th {\n",
       "        text-align: right;\n",
       "    }\n",
       "</style>\n",
       "<table border=\"1\" class=\"dataframe\">\n",
       "  <thead>\n",
       "    <tr style=\"text-align: right;\">\n",
       "      <th></th>\n",
       "      <th>laptops</th>\n",
       "      <th>prices</th>\n",
       "      <th>ratings</th>\n",
       "    </tr>\n",
       "  </thead>\n",
       "  <tbody>\n",
       "    <tr>\n",
       "      <th>186</th>\n",
       "      <td>Apple MacBook Pro 15.4\" Laptop w/ Retina (Inte...</td>\n",
       "      <td>2450.89</td>\n",
       "      <td>96.8</td>\n",
       "    </tr>\n",
       "  </tbody>\n",
       "</table>\n",
       "</div>"
      ],
      "text/plain": [
       "                                               laptops   prices  ratings\n",
       "186  Apple MacBook Pro 15.4\" Laptop w/ Retina (Inte...  2450.89     96.8"
      ]
     },
     "execution_count": 110,
     "metadata": {},
     "output_type": "execute_result"
    }
   ],
   "source": [
    "dfmax[['laptops', 'prices', 'ratings']]"
   ]
  },
  {
   "cell_type": "code",
   "execution_count": 112,
   "metadata": {},
   "outputs": [],
   "source": [
    "dfmax_ratings = df[df['ratings']==100.0]"
   ]
  },
  {
   "cell_type": "code",
   "execution_count": 113,
   "metadata": {},
   "outputs": [
    {
     "data": {
      "text/html": [
       "<div>\n",
       "<style scoped>\n",
       "    .dataframe tbody tr th:only-of-type {\n",
       "        vertical-align: middle;\n",
       "    }\n",
       "\n",
       "    .dataframe tbody tr th {\n",
       "        vertical-align: top;\n",
       "    }\n",
       "\n",
       "    .dataframe thead th {\n",
       "        text-align: right;\n",
       "    }\n",
       "</style>\n",
       "<table border=\"1\" class=\"dataframe\">\n",
       "  <thead>\n",
       "    <tr style=\"text-align: right;\">\n",
       "      <th></th>\n",
       "      <th>laptops</th>\n",
       "      <th>prices</th>\n",
       "      <th>votes</th>\n",
       "    </tr>\n",
       "  </thead>\n",
       "  <tbody>\n",
       "    <tr>\n",
       "      <th>6</th>\n",
       "      <td>ASUS 14\" Laptop - Star Grey (Intel Dual-Core C...</td>\n",
       "      <td>350.89</td>\n",
       "      <td>1.0</td>\n",
       "    </tr>\n",
       "    <tr>\n",
       "      <th>9</th>\n",
       "      <td>ASUS VivoBook 15.6\" Laptop - Black/Gold (Intel...</td>\n",
       "      <td>360.89</td>\n",
       "      <td>1.0</td>\n",
       "    </tr>\n",
       "    <tr>\n",
       "      <th>14</th>\n",
       "      <td>HP G4 14\" Chromebook (Intel Celeron N2840/16GB...</td>\n",
       "      <td>350.99</td>\n",
       "      <td>1.0</td>\n",
       "    </tr>\n",
       "    <tr>\n",
       "      <th>27</th>\n",
       "      <td>Acer Aspire ES 17.3\" Laptop - Black (Intel Pen...</td>\n",
       "      <td>498.88</td>\n",
       "      <td>1.0</td>\n",
       "    </tr>\n",
       "    <tr>\n",
       "      <th>31</th>\n",
       "      <td>Lenovo N42-20 14\" Touchscreen Chromebook (Inte...</td>\n",
       "      <td>375.99</td>\n",
       "      <td>1.0</td>\n",
       "    </tr>\n",
       "    <tr>\n",
       "      <th>32</th>\n",
       "      <td>HP ProBook 640 14\" Laptop - Black (Intel Core ...</td>\n",
       "      <td>569.99</td>\n",
       "      <td>1.0</td>\n",
       "    </tr>\n",
       "    <tr>\n",
       "      <th>35</th>\n",
       "      <td>DELL Latitude E5430 Intel i5-2.6 GHz, 4 GB DDR...</td>\n",
       "      <td>289.00</td>\n",
       "      <td>1.0</td>\n",
       "    </tr>\n",
       "    <tr>\n",
       "      <th>38</th>\n",
       "      <td>Dell Inspiron 11.6\" Touchscreen 2-in-1 Laptop ...</td>\n",
       "      <td>600.89</td>\n",
       "      <td>1.0</td>\n",
       "    </tr>\n",
       "    <tr>\n",
       "      <th>62</th>\n",
       "      <td>Acer Aspire 3 15.6\" Laptop - Black (Intel Core...</td>\n",
       "      <td>630.89</td>\n",
       "      <td>1.0</td>\n",
       "    </tr>\n",
       "    <tr>\n",
       "      <th>81</th>\n",
       "      <td>ASUS ZenBook 14\" Laptop - Quartz Grey (Intel C...</td>\n",
       "      <td>800.89</td>\n",
       "      <td>1.0</td>\n",
       "    </tr>\n",
       "    <tr>\n",
       "      <th>88</th>\n",
       "      <td>Toshiba Tecra R950, Intel i7, 8GB RAM, 128GB S...</td>\n",
       "      <td>569.99</td>\n",
       "      <td>1.0</td>\n",
       "    </tr>\n",
       "    <tr>\n",
       "      <th>97</th>\n",
       "      <td>Acer Aspire E 15.6\" Laptop - Black (Intel i5-7...</td>\n",
       "      <td>550.89</td>\n",
       "      <td>1.0</td>\n",
       "    </tr>\n",
       "    <tr>\n",
       "      <th>102</th>\n",
       "      <td>HP Pavilion x360 15.6\" Touchscreen 2-in-1 Lapt...</td>\n",
       "      <td>800.89</td>\n",
       "      <td>1.0</td>\n",
       "    </tr>\n",
       "    <tr>\n",
       "      <th>120</th>\n",
       "      <td>HP 15.6\" Touchscreen Laptop - Grey (AMD A9-942...</td>\n",
       "      <td>600.89</td>\n",
       "      <td>1.0</td>\n",
       "    </tr>\n",
       "    <tr>\n",
       "      <th>141</th>\n",
       "      <td>ASUS B9440 14\" Laptop - Grey Magnesium (Intel ...</td>\n",
       "      <td>1300.89</td>\n",
       "      <td>1.0</td>\n",
       "    </tr>\n",
       "    <tr>\n",
       "      <th>147</th>\n",
       "      <td>Apple MacBook 12\" Laptop w/ Retina (Intel Core...</td>\n",
       "      <td>2000.89</td>\n",
       "      <td>4.0</td>\n",
       "    </tr>\n",
       "    <tr>\n",
       "      <th>155</th>\n",
       "      <td>MSI WE62 7RJ-1837CA 15.6in FHD I5-7300HQ Quadr...</td>\n",
       "      <td>1950.89</td>\n",
       "      <td>1.0</td>\n",
       "    </tr>\n",
       "    <tr>\n",
       "      <th>157</th>\n",
       "      <td>Apple MacBook 12\" Laptop w/ Retina (Intel Core...</td>\n",
       "      <td>2000.89</td>\n",
       "      <td>5.0</td>\n",
       "    </tr>\n",
       "    <tr>\n",
       "      <th>158</th>\n",
       "      <td>Dell Latitude 5000 5580 15.6\" LCD Notebook - I...</td>\n",
       "      <td>1248.82</td>\n",
       "      <td>1.0</td>\n",
       "    </tr>\n",
       "    <tr>\n",
       "      <th>160</th>\n",
       "      <td>EUROCOM Monster 4 14.1\" Gaming Laptop - Black ...</td>\n",
       "      <td>1700.89</td>\n",
       "      <td>2.0</td>\n",
       "    </tr>\n",
       "    <tr>\n",
       "      <th>163</th>\n",
       "      <td>ASUS 15.6\" Gaming Laptop - Black (Intel Core i...</td>\n",
       "      <td>1050.89</td>\n",
       "      <td>1.0</td>\n",
       "    </tr>\n",
       "    <tr>\n",
       "      <th>189</th>\n",
       "      <td>ASUS ZenBook 14\" Laptop - Grey (Intel Core i5-...</td>\n",
       "      <td>1200.89</td>\n",
       "      <td>1.0</td>\n",
       "    </tr>\n",
       "    <tr>\n",
       "      <th>192</th>\n",
       "      <td>Microsoft Surface Book 2 15\" 2-in-1 Laptop - S...</td>\n",
       "      <td>3200.89</td>\n",
       "      <td>7.0</td>\n",
       "    </tr>\n",
       "    <tr>\n",
       "      <th>194</th>\n",
       "      <td>Acer Predator Helios 15.6\" Gaming Laptop - Bla...</td>\n",
       "      <td>1900.89</td>\n",
       "      <td>1.0</td>\n",
       "    </tr>\n",
       "    <tr>\n",
       "      <th>195</th>\n",
       "      <td>ASUS ROG Strix 17.3\" Gaming Laptop -Metallic C...</td>\n",
       "      <td>2700.89</td>\n",
       "      <td>1.0</td>\n",
       "    </tr>\n",
       "    <tr>\n",
       "      <th>200</th>\n",
       "      <td>Microsoft Surface Book 2 15\" 2-in-1 Laptop - S...</td>\n",
       "      <td>3700.89</td>\n",
       "      <td>9.0</td>\n",
       "    </tr>\n",
       "    <tr>\n",
       "      <th>204</th>\n",
       "      <td>Dell 15.6\" Gaming Laptop - Black (Intel Core i...</td>\n",
       "      <td>1600.87</td>\n",
       "      <td>5.0</td>\n",
       "    </tr>\n",
       "    <tr>\n",
       "      <th>206</th>\n",
       "      <td>Microsoft Surface Book 2 15\" 2-in-1 Laptop - S...</td>\n",
       "      <td>4200.89</td>\n",
       "      <td>1.0</td>\n",
       "    </tr>\n",
       "    <tr>\n",
       "      <th>207</th>\n",
       "      <td>Microsoft Surface Book 2 13.5\" 2-in-1 Laptop (...</td>\n",
       "      <td>3850.89</td>\n",
       "      <td>1.0</td>\n",
       "    </tr>\n",
       "    <tr>\n",
       "      <th>210</th>\n",
       "      <td>ASUS ROG GL753 17.3\" Gaming Laptop (Intel Core...</td>\n",
       "      <td>1700.89</td>\n",
       "      <td>2.0</td>\n",
       "    </tr>\n",
       "    <tr>\n",
       "      <th>216</th>\n",
       "      <td>Apple MacBook Pro 15.4\" Laptop w/ Touch Bar (I...</td>\n",
       "      <td>3000.89</td>\n",
       "      <td>1.0</td>\n",
       "    </tr>\n",
       "    <tr>\n",
       "      <th>217</th>\n",
       "      <td>Acer Predator 15\" Gaming Laptop (Intel Ci7 670...</td>\n",
       "      <td>2100.85</td>\n",
       "      <td>1.0</td>\n",
       "    </tr>\n",
       "    <tr>\n",
       "      <th>219</th>\n",
       "      <td>ASUS ROG GL502VM 15.6\" Gaming Laptop (Intel Co...</td>\n",
       "      <td>1800.89</td>\n",
       "      <td>1.0</td>\n",
       "    </tr>\n",
       "    <tr>\n",
       "      <th>221</th>\n",
       "      <td>ASUS ROG GL703VM 17.3\" Laptop - Gunmetal/Weave...</td>\n",
       "      <td>2000.89</td>\n",
       "      <td>1.0</td>\n",
       "    </tr>\n",
       "    <tr>\n",
       "      <th>223</th>\n",
       "      <td>Microsoft Surface Laptop 13.5\" - Platinum (Int...</td>\n",
       "      <td>2800.89</td>\n",
       "      <td>1.0</td>\n",
       "    </tr>\n",
       "    <tr>\n",
       "      <th>227</th>\n",
       "      <td>EUROCOM Tornado F5 15.6\" Gaming Laptop - Black...</td>\n",
       "      <td>2550.89</td>\n",
       "      <td>1.0</td>\n",
       "    </tr>\n",
       "  </tbody>\n",
       "</table>\n",
       "</div>"
      ],
      "text/plain": [
       "                                               laptops   prices  votes\n",
       "6    ASUS 14\" Laptop - Star Grey (Intel Dual-Core C...   350.89    1.0\n",
       "9    ASUS VivoBook 15.6\" Laptop - Black/Gold (Intel...   360.89    1.0\n",
       "14   HP G4 14\" Chromebook (Intel Celeron N2840/16GB...   350.99    1.0\n",
       "27   Acer Aspire ES 17.3\" Laptop - Black (Intel Pen...   498.88    1.0\n",
       "31   Lenovo N42-20 14\" Touchscreen Chromebook (Inte...   375.99    1.0\n",
       "32   HP ProBook 640 14\" Laptop - Black (Intel Core ...   569.99    1.0\n",
       "35   DELL Latitude E5430 Intel i5-2.6 GHz, 4 GB DDR...   289.00    1.0\n",
       "38   Dell Inspiron 11.6\" Touchscreen 2-in-1 Laptop ...   600.89    1.0\n",
       "62   Acer Aspire 3 15.6\" Laptop - Black (Intel Core...   630.89    1.0\n",
       "81   ASUS ZenBook 14\" Laptop - Quartz Grey (Intel C...   800.89    1.0\n",
       "88   Toshiba Tecra R950, Intel i7, 8GB RAM, 128GB S...   569.99    1.0\n",
       "97   Acer Aspire E 15.6\" Laptop - Black (Intel i5-7...   550.89    1.0\n",
       "102  HP Pavilion x360 15.6\" Touchscreen 2-in-1 Lapt...   800.89    1.0\n",
       "120  HP 15.6\" Touchscreen Laptop - Grey (AMD A9-942...   600.89    1.0\n",
       "141  ASUS B9440 14\" Laptop - Grey Magnesium (Intel ...  1300.89    1.0\n",
       "147  Apple MacBook 12\" Laptop w/ Retina (Intel Core...  2000.89    4.0\n",
       "155  MSI WE62 7RJ-1837CA 15.6in FHD I5-7300HQ Quadr...  1950.89    1.0\n",
       "157  Apple MacBook 12\" Laptop w/ Retina (Intel Core...  2000.89    5.0\n",
       "158  Dell Latitude 5000 5580 15.6\" LCD Notebook - I...  1248.82    1.0\n",
       "160  EUROCOM Monster 4 14.1\" Gaming Laptop - Black ...  1700.89    2.0\n",
       "163  ASUS 15.6\" Gaming Laptop - Black (Intel Core i...  1050.89    1.0\n",
       "189  ASUS ZenBook 14\" Laptop - Grey (Intel Core i5-...  1200.89    1.0\n",
       "192  Microsoft Surface Book 2 15\" 2-in-1 Laptop - S...  3200.89    7.0\n",
       "194  Acer Predator Helios 15.6\" Gaming Laptop - Bla...  1900.89    1.0\n",
       "195  ASUS ROG Strix 17.3\" Gaming Laptop -Metallic C...  2700.89    1.0\n",
       "200  Microsoft Surface Book 2 15\" 2-in-1 Laptop - S...  3700.89    9.0\n",
       "204  Dell 15.6\" Gaming Laptop - Black (Intel Core i...  1600.87    5.0\n",
       "206  Microsoft Surface Book 2 15\" 2-in-1 Laptop - S...  4200.89    1.0\n",
       "207  Microsoft Surface Book 2 13.5\" 2-in-1 Laptop (...  3850.89    1.0\n",
       "210  ASUS ROG GL753 17.3\" Gaming Laptop (Intel Core...  1700.89    2.0\n",
       "216  Apple MacBook Pro 15.4\" Laptop w/ Touch Bar (I...  3000.89    1.0\n",
       "217  Acer Predator 15\" Gaming Laptop (Intel Ci7 670...  2100.85    1.0\n",
       "219  ASUS ROG GL502VM 15.6\" Gaming Laptop (Intel Co...  1800.89    1.0\n",
       "221  ASUS ROG GL703VM 17.3\" Laptop - Gunmetal/Weave...  2000.89    1.0\n",
       "223  Microsoft Surface Laptop 13.5\" - Platinum (Int...  2800.89    1.0\n",
       "227  EUROCOM Tornado F5 15.6\" Gaming Laptop - Black...  2550.89    1.0"
      ]
     },
     "execution_count": 113,
     "metadata": {},
     "output_type": "execute_result"
    }
   ],
   "source": [
    "dfmax_ratings[['laptops', 'prices', 'votes']]"
   ]
  },
  {
   "cell_type": "code",
   "execution_count": 116,
   "metadata": {},
   "outputs": [
    {
     "data": {
      "text/plain": [
       "9.0"
      ]
     },
     "execution_count": 116,
     "metadata": {},
     "output_type": "execute_result"
    }
   ],
   "source": [
    "dfmax_ratings['votes'].max()"
   ]
  },
  {
   "cell_type": "markdown",
   "metadata": {},
   "source": [
    "# Plotting and analyzing the distributions"
   ]
  },
  {
   "cell_type": "code",
   "execution_count": 99,
   "metadata": {},
   "outputs": [],
   "source": [
    "import matplotlib.pyplot as plt\n",
    "%matplotlib inline"
   ]
  },
  {
   "cell_type": "code",
   "execution_count": 119,
   "metadata": {},
   "outputs": [
    {
     "data": {
      "image/png": "[encoded data removed]",
      "text/plain": [
       "<Figure size 1152x576 with 4 Axes>"
      ]
     },
     "metadata": {},
     "output_type": "display_data"
    }
   ],
   "source": [
    "df[['prices', 'ratings', 'votes']].hist(bins=5, figsize = (16,8))\n",
    "plt.show()"
   ]
  },
  {
   "cell_type": "code",
   "execution_count": 125,
   "metadata": {},
   "outputs": [
    {
     "data": {
      "image/png": "[encoded data removed]",
      "text/plain": [
       "<Figure size 1152x288 with 3 Axes>"
      ]
     },
     "metadata": {},
     "output_type": "display_data"
    }
   ],
   "source": [
    "import matplotlib.pyplot as plt\n",
    "%matplotlib inline\n",
    "\n",
    "fig, axes = plt.subplots(nrows = 1, ncols = 3, figsize = (16,4))\n",
    "ax1, ax2, ax3 = fig.axes\n",
    "\n",
    "ax1.boxplot(df['prices']) # bin range = 1\n",
    "ax1.set_title('Prices')\n",
    "\n",
    "ax2.boxplot(df['ratings']) # bin range = 10\n",
    "ax2.set_title('Ratings')\n",
    "\n",
    "ax3.boxplot(df['votes'])\n",
    "ax3.set_title('Votes')\n",
    "\n",
    "for ax in fig.axes:\n",
    "    ax.spines['top'].set_visible(False)\n",
    "    ax.spines['right'].set_visible(False)\n",
    "\n",
    "plt.show()"
   ]
  },
  {
   "cell_type": "code",
   "execution_count": null,
   "metadata": {},
   "outputs": [],
   "source": []
  }
 ],
 "metadata": {
  "kernelspec": {
   "display_name": "Python 3",
   "language": "python",
   "name": "python3"
  },
  "language_info": {
   "codemirror_mode": {
    "name": "ipython",
    "version": 3
   },
   "file_extension": ".py",
   "mimetype": "text/x-python",
   "name": "python",
   "nbconvert_exporter": "python",
   "pygments_lexer": "ipython3",
   "version": "3.5.5"
  }
 },
 "nbformat": 4,
 "nbformat_minor": 2
}
