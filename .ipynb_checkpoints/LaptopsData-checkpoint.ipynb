{
 "cells": [
  {
   "cell_type": "markdown",
   "metadata": {},
   "source": [
    "# Scraping Laptops data from bestbuy canada website\n"
   ]
  },
  {
   "cell_type": "markdown",
   "metadata": {},
   "source": [
    "This is an example of data scraping from bestbuy canada website. This notebook is an exercise I did in order to help me decide what computer can I buy for my personnal project in data science. So I decided to focus on one website and see what it can tell me about my project. I essentially make some request on the website of bestbuy and I use BeautifulSoup to parse the html file I got from the requests and collect automatically data about computer on the website. \n",
    "After getting my csv file, I clean it and take at look at the desciptive statistic measures  and visualize it."
   ]
  },
  {
   "cell_type": "code",
   "execution_count": 1,
   "metadata": {},
   "outputs": [
    {
     "name": "stdout",
     "output_type": "stream",
     "text": [
      "\r\n",
      "\r\n",
      "<!doctype html>\r\n",
      "<html xmlns=\"http://www.w3.org/1999/xhtml\" lang=\"en-CA\" xml:lang=\"en-CA\" data-ng-app='plp'>\r\n",
      "\r\n",
      "<head id=\"ctl00_Head1\" code-version=\"6.3.0.87\"><script type=\"text/javascript\">\r\n",
      "    var data_layer = {\"section\":\"Main\",\"template\":\"Subclass\",\"subTemplate\":\"SkuListingList\",\"breadcrumb2\":\"Computers & Tablets\",\"breadcrumb3\":\"Laptops & MacBooks\",\"breadcrumb4\":null,\"breadcrumb5\":null,\"breadcrumb6\":null,\"language\":\"English\",\"recognized\":\"Anonymous\",\"pageIdentifier\":\"Laptops & MacBooks\",\"storeID\":null,\"catID\":\"20352\",\"prodRating\":\"\",\"numProdReviews\":\"\",\"sellerRating\":null,\"numSellerReviews\":null,\"prodID\":[],\"prodPrice\":[],\"prodQty\":[],\"prodSavings\":[],\"prodDiscount\":[],\"prodTotalSavings\":[],\"prodName\":[],\"prodShippingPrice\":[],\"productBundle\":[],\"bundlePrice\":[],\"bundleQty\":[],\"bundleName\":[],\"bundleSavings\":[],\"bundleDiscount\":[],\"bundleTotalSavings\":[],\"orderLevelDiscount\":null,\"productType\":[],\"skuType\":[],\"daysToDeliver\":[],\"brandStore\":null,\"brand\":null,\"productOnSale\":nul\n"
     ]
    }
   ],
   "source": [
    "# I use get from requests package to read the url I selected with text function\n",
    "from requests import get\n",
    "url = 'https://www.bestbuy.ca/en-ca/category/laptops-macbooks/20352.aspx?type=product&page=1&filter=category%253aComputers%2B%2526%2BTablets%253bcategory%253aLaptops%2B%2526%2BMacBooks%253bcustom0ramsize%253a4'\n",
    "response = get(url)\n",
    "print(response.text[:1000])"
   ]
  },
  {
   "cell_type": "markdown",
   "metadata": {},
   "source": [
    "## Use beautifulSoup to parse the HTML content"
   ]
  },
  {
   "cell_type": "code",
   "execution_count": 2,
   "metadata": {},
   "outputs": [
    {
     "data": {
      "text/plain": [
       "bs4.BeautifulSoup"
      ]
     },
     "execution_count": 2,
     "metadata": {},
     "output_type": "execute_result"
    }
   ],
   "source": [
    "from bs4 import BeautifulSoup\n",
    "\n",
    "html_soup = BeautifulSoup(response.text, 'html.parser')\n",
    "type(html_soup)"
   ]
  },
  {
   "cell_type": "code",
   "execution_count": 3,
   "metadata": {},
   "outputs": [
    {
     "name": "stdout",
     "output_type": "stream",
     "text": [
      "<class 'bs4.element.ResultSet'>\n",
      "32\n"
     ]
    }
   ],
   "source": [
    "laptop_containers = html_soup.find_all('li', class_='listing-item equal-height-container')\n",
    "print(type(laptop_containers))\n",
    "print(len(laptop_containers))"
   ]
  },
  {
   "cell_type": "code",
   "execution_count": 4,
   "metadata": {},
   "outputs": [
    {
     "name": "stdout",
     "output_type": "stream",
     "text": [
      "<class 'bs4.element.ResultSet'>\n",
      "32\n"
     ]
    }
   ],
   "source": [
    "laptop_containers = html_soup.find_all('div', class_='item-inner clearfix')\n",
    "print(type(laptop_containers))\n",
    "print(len(laptop_containers))"
   ]
  },
  {
   "cell_type": "markdown",
   "metadata": {},
   "source": [
    "## Extracting the data for a single laptop\n",
    "We can access the first container, which contains information about a single laptop, by using list notation on laptop_containers."
   ]
  },
  {
   "cell_type": "code",
   "execution_count": 5,
   "metadata": {},
   "outputs": [],
   "source": [
    "first_laptop = laptop_containers[0]"
   ]
  },
  {
   "cell_type": "code",
   "execution_count": 6,
   "metadata": {},
   "outputs": [
    {
     "data": {
      "text/plain": [
       "<div class=\"item-inner clearfix\">\n",
       "<div class=\"prod-image\">\n",
       "<a href=\"/en-ca/product/asus-l406ma-14-laptop-star-grey-intel-celeron-n4000-64gb-hdd-4gb-ram-windows-10/13018569.aspx?\"><img height=\"150\" src=\"https://multimedia.bbycastatic.ca/multimedia/products/150x150/130/13018/13018569.jpg\" width=\"150\"/></a>\n",
       "<div class=\"compare-checkbox\">\n",
       "<label>\n",
       "<input data-sku=\"13018569\" type=\"checkbox\"/>\n",
       "<span>Compare</span>\n",
       "</label>\n",
       "<a class=\"btn btn-compare hidden\" href=\"#\">Compare selections</a>\n",
       "</div>\n",
       "</div><!-- prod-image end-->\n",
       "<div class=\"prod-info\">\n",
       "<div class=\"price-wrapper price-medium\">\n",
       "<div class=\"prodprice\">\n",
       "<span class=\"amount\">$350.89</span>\n",
       "</div>\n",
       "<!--<div class=\"prod-ehf\"> + $0.90 Environmental Handling Fee</div>-->\n",
       "<div class=\"prod-ehf\"> $349.99 + $0.90 Environmental Handling Fee</div>\n",
       "</div>\n",
       "<h4 class=\"prod-title\"><a href=\"/en-ca/product/asus-l406ma-14-laptop-star-grey-intel-celeron-n4000-64gb-hdd-4gb-ram-windows-10/13018569.aspx?\">ASUS L406MA 14\" Laptop - Star Grey (Intel Celeron N4000/64GB HDD/4GB RAM/Windows 10)</a></h4>\n",
       "<div class=\"prod-rating core-components core-utilities\">\n",
       "<div class=\"rating-stars-small inline-block margin-right-one\" itemprop=\"reviewRating\" itemscope=\"\" itemtype=\"http://schema.org/Rating\">\n",
       "<div class=\"rating-stars-gray\">\n",
       "<i class=\"icon-bby-star-filled\"></i>\n",
       "<i class=\"icon-bby-star-filled\"></i>\n",
       "<i class=\"icon-bby-star-filled\"></i>\n",
       "<i class=\"icon-bby-star-filled\"></i>\n",
       "<i class=\"icon-bby-star-filled\"></i>\n",
       "</div>\n",
       "<div class=\"rating-stars-yellow\" style=\"width: 90.0%;\">\n",
       "<i class=\"icon-bby-star-filled star-yellow\"></i>\n",
       "<i class=\"icon-bby-star-filled star-yellow\"></i>\n",
       "<i class=\"icon-bby-star-filled star-yellow\"></i>\n",
       "<i class=\"icon-bby-star-filled star-yellow\"></i>\n",
       "<i class=\"icon-bby-star-filled star-yellow\"></i>\n",
       "</div>\n",
       "</div>\n",
       "<div class=\"rating-num\">(2)</div>\n",
       "</div>\n",
       "<ul class=\"prod-availability list-layout-prod-availability\" data-sku=\"13018569\">\n",
       "</ul>\n",
       "</div>\n",
       "<!-- prod-info end-->\n",
       "<ul class=\"prod-availability grid-layout-prod-availability\" data-sku=\"13018569\">\n",
       "</ul>\n",
       "</div>"
      ]
     },
     "execution_count": 6,
     "metadata": {},
     "output_type": "execute_result"
    }
   ],
   "source": [
    "first_laptop"
   ]
  },
  {
   "cell_type": "markdown",
   "metadata": {},
   "source": [
    "## The laptop name"
   ]
  },
  {
   "cell_type": "code",
   "execution_count": 7,
   "metadata": {},
   "outputs": [
    {
     "data": {
      "text/plain": [
       "<div class=\"prod-image\">\n",
       "<a href=\"/en-ca/product/asus-l406ma-14-laptop-star-grey-intel-celeron-n4000-64gb-hdd-4gb-ram-windows-10/13018569.aspx?\"><img height=\"150\" src=\"https://multimedia.bbycastatic.ca/multimedia/products/150x150/130/13018/13018569.jpg\" width=\"150\"/></a>\n",
       "<div class=\"compare-checkbox\">\n",
       "<label>\n",
       "<input data-sku=\"13018569\" type=\"checkbox\"/>\n",
       "<span>Compare</span>\n",
       "</label>\n",
       "<a class=\"btn btn-compare hidden\" href=\"#\">Compare selections</a>\n",
       "</div>\n",
       "</div>"
      ]
     },
     "execution_count": 7,
     "metadata": {},
     "output_type": "execute_result"
    }
   ],
   "source": [
    "first_laptop.div"
   ]
  },
  {
   "cell_type": "code",
   "execution_count": 8,
   "metadata": {},
   "outputs": [
    {
     "data": {
      "text/plain": [
       "<a href=\"/en-ca/product/asus-l406ma-14-laptop-star-grey-intel-celeron-n4000-64gb-hdd-4gb-ram-windows-10/13018569.aspx?\"><img height=\"150\" src=\"https://multimedia.bbycastatic.ca/multimedia/products/150x150/130/13018/13018569.jpg\" width=\"150\"/></a>"
      ]
     },
     "execution_count": 8,
     "metadata": {},
     "output_type": "execute_result"
    }
   ],
   "source": [
    "first_laptop.a"
   ]
  },
  {
   "cell_type": "code",
   "execution_count": 9,
   "metadata": {},
   "outputs": [
    {
     "data": {
      "text/plain": [
       "<h4 class=\"prod-title\"><a href=\"/en-ca/product/asus-l406ma-14-laptop-star-grey-intel-celeron-n4000-64gb-hdd-4gb-ram-windows-10/13018569.aspx?\">ASUS L406MA 14\" Laptop - Star Grey (Intel Celeron N4000/64GB HDD/4GB RAM/Windows 10)</a></h4>"
      ]
     },
     "execution_count": 9,
     "metadata": {},
     "output_type": "execute_result"
    }
   ],
   "source": [
    "first_laptop.h4"
   ]
  },
  {
   "cell_type": "code",
   "execution_count": 10,
   "metadata": {},
   "outputs": [
    {
     "data": {
      "text/plain": [
       "<a href=\"/en-ca/product/asus-l406ma-14-laptop-star-grey-intel-celeron-n4000-64gb-hdd-4gb-ram-windows-10/13018569.aspx?\">ASUS L406MA 14\" Laptop - Star Grey (Intel Celeron N4000/64GB HDD/4GB RAM/Windows 10)</a>"
      ]
     },
     "execution_count": 10,
     "metadata": {},
     "output_type": "execute_result"
    }
   ],
   "source": [
    "first_laptop.h4.a"
   ]
  },
  {
   "cell_type": "code",
   "execution_count": 11,
   "metadata": {},
   "outputs": [],
   "source": [
    "first_name = first_laptop.h4.a.text"
   ]
  },
  {
   "cell_type": "code",
   "execution_count": 12,
   "metadata": {},
   "outputs": [
    {
     "data": {
      "text/plain": [
       "'ASUS L406MA 14\" Laptop - Star Grey (Intel Celeron N4000/64GB HDD/4GB RAM/Windows 10)'"
      ]
     },
     "execution_count": 12,
     "metadata": {},
     "output_type": "execute_result"
    }
   ],
   "source": [
    "first_name"
   ]
  },
  {
   "cell_type": "markdown",
   "metadata": {},
   "source": [
    "## Laptop price"
   ]
  },
  {
   "cell_type": "code",
   "execution_count": 13,
   "metadata": {},
   "outputs": [],
   "source": [
    "first_price = first_laptop.find('span', class_='amount')"
   ]
  },
  {
   "cell_type": "code",
   "execution_count": 14,
   "metadata": {},
   "outputs": [
    {
     "data": {
      "text/plain": [
       "<span class=\"amount\">$350.89</span>"
      ]
     },
     "execution_count": 14,
     "metadata": {},
     "output_type": "execute_result"
    }
   ],
   "source": [
    "first_price"
   ]
  },
  {
   "cell_type": "code",
   "execution_count": 15,
   "metadata": {},
   "outputs": [],
   "source": [
    "first_price = first_price.text"
   ]
  },
  {
   "cell_type": "code",
   "execution_count": 16,
   "metadata": {},
   "outputs": [
    {
     "data": {
      "text/plain": [
       "'$350.89'"
      ]
     },
     "execution_count": 16,
     "metadata": {},
     "output_type": "execute_result"
    }
   ],
   "source": [
    "first_price"
   ]
  },
  {
   "cell_type": "markdown",
   "metadata": {},
   "source": [
    "## Laptop rating"
   ]
  },
  {
   "cell_type": "code",
   "execution_count": 17,
   "metadata": {},
   "outputs": [],
   "source": [
    "def Rating(c):\n",
    "    c = c.find('div', class_=\"rating-stars-yellow\")\n",
    "    c = c['style']\n",
    "    c = c.split()[1]\n",
    "    c = float(c[:-2])\n",
    "    return c"
   ]
  },
  {
   "cell_type": "code",
   "execution_count": 18,
   "metadata": {},
   "outputs": [
    {
     "data": {
      "text/plain": [
       "90.0"
      ]
     },
     "execution_count": 18,
     "metadata": {},
     "output_type": "execute_result"
    }
   ],
   "source": [
    "Rating(first_laptop)"
   ]
  },
  {
   "cell_type": "markdown",
   "metadata": {},
   "source": [
    "## Number of votes"
   ]
  },
  {
   "cell_type": "code",
   "execution_count": 19,
   "metadata": {},
   "outputs": [],
   "source": [
    "first_vote = first_laptop.find('div', class_=\"rating-num\")"
   ]
  },
  {
   "cell_type": "code",
   "execution_count": 20,
   "metadata": {},
   "outputs": [],
   "source": [
    "first_vote = first_vote.text"
   ]
  },
  {
   "cell_type": "code",
   "execution_count": 21,
   "metadata": {},
   "outputs": [
    {
     "data": {
      "text/plain": [
       "'(2)'"
      ]
     },
     "execution_count": 21,
     "metadata": {},
     "output_type": "execute_result"
    }
   ],
   "source": [
    "first_vote"
   ]
  },
  {
   "cell_type": "markdown",
   "metadata": {},
   "source": [
    "## The script for a single page\n"
   ]
  },
  {
   "cell_type": "code",
   "execution_count": 22,
   "metadata": {},
   "outputs": [],
   "source": [
    "# Lists to store the scraped data in\n",
    "names = []\n",
    "prices = []\n",
    "ratings = []\n",
    "votes = []\n",
    "\n",
    "# Extract data from individual movie container\n",
    "for container in laptop_containers:\n",
    "\n",
    "    # If the movie has Metascore, then extract:\n",
    "    if container.find('div',  class_='rating-stars-yellow') is not None:\n",
    "\n",
    "        # The name\n",
    "        name = first_laptop.h4.a.text\n",
    "        names.append(name)\n",
    "\n",
    "        # The price\n",
    "        price = container.find('span', class_='amount').text\n",
    "        prices.append(price)\n",
    "\n",
    "        # The rating\n",
    "        rating = Rating(container)\n",
    "        ratings.append(rating)\n",
    "\n",
    "        # The number of votes\n",
    "        vote = container.find('div', class_=\"rating-num\").text\n",
    "        votes.append(vote)"
   ]
  },
  {
   "cell_type": "code",
   "execution_count": 23,
   "metadata": {},
   "outputs": [
    {
     "name": "stdout",
     "output_type": "stream",
     "text": [
      "<class 'pandas.core.frame.DataFrame'>\n",
      "RangeIndex: 21 entries, 0 to 20\n",
      "Data columns (total 4 columns):\n",
      "laptop    21 non-null object\n",
      "price     21 non-null object\n",
      "rating    21 non-null float64\n",
      "votes     21 non-null object\n",
      "dtypes: float64(1), object(3)\n",
      "memory usage: 752.0+ bytes\n",
      "None\n"
     ]
    },
    {
     "data": {
      "text/html": [
       "<div>\n",
       "<style scoped>\n",
       "    .dataframe tbody tr th:only-of-type {\n",
       "        vertical-align: middle;\n",
       "    }\n",
       "\n",
       "    .dataframe tbody tr th {\n",
       "        vertical-align: top;\n",
       "    }\n",
       "\n",
       "    .dataframe thead th {\n",
       "        text-align: right;\n",
       "    }\n",
       "</style>\n",
       "<table border=\"1\" class=\"dataframe\">\n",
       "  <thead>\n",
       "    <tr style=\"text-align: right;\">\n",
       "      <th></th>\n",
       "      <th>laptop</th>\n",
       "      <th>price</th>\n",
       "      <th>rating</th>\n",
       "      <th>votes</th>\n",
       "    </tr>\n",
       "  </thead>\n",
       "  <tbody>\n",
       "    <tr>\n",
       "      <th>0</th>\n",
       "      <td>ASUS L406MA 14\" Laptop - Star Grey (Intel Cele...</td>\n",
       "      <td>$350.89</td>\n",
       "      <td>90.0</td>\n",
       "      <td>(2)</td>\n",
       "    </tr>\n",
       "    <tr>\n",
       "      <th>1</th>\n",
       "      <td>ASUS L406MA 14\" Laptop - Star Grey (Intel Cele...</td>\n",
       "      <td>$430.89</td>\n",
       "      <td>76.0</td>\n",
       "      <td>(5)</td>\n",
       "    </tr>\n",
       "    <tr>\n",
       "      <th>2</th>\n",
       "      <td>ASUS L406MA 14\" Laptop - Star Grey (Intel Cele...</td>\n",
       "      <td>$300.89</td>\n",
       "      <td>40.0</td>\n",
       "      <td>(1)</td>\n",
       "    </tr>\n",
       "    <tr>\n",
       "      <th>3</th>\n",
       "      <td>ASUS L406MA 14\" Laptop - Star Grey (Intel Cele...</td>\n",
       "      <td>$139.99</td>\n",
       "      <td>66.6</td>\n",
       "      <td>(9)</td>\n",
       "    </tr>\n",
       "    <tr>\n",
       "      <th>4</th>\n",
       "      <td>ASUS L406MA 14\" Laptop - Star Grey (Intel Cele...</td>\n",
       "      <td>$430.89</td>\n",
       "      <td>100.0</td>\n",
       "      <td>(7)</td>\n",
       "    </tr>\n",
       "    <tr>\n",
       "      <th>5</th>\n",
       "      <td>ASUS L406MA 14\" Laptop - Star Grey (Intel Cele...</td>\n",
       "      <td>$550.89</td>\n",
       "      <td>100.0</td>\n",
       "      <td>(1)</td>\n",
       "    </tr>\n",
       "    <tr>\n",
       "      <th>6</th>\n",
       "      <td>ASUS L406MA 14\" Laptop - Star Grey (Intel Cele...</td>\n",
       "      <td>$300.89</td>\n",
       "      <td>80.0</td>\n",
       "      <td>(4)</td>\n",
       "    </tr>\n",
       "    <tr>\n",
       "      <th>7</th>\n",
       "      <td>ASUS L406MA 14\" Laptop - Star Grey (Intel Cele...</td>\n",
       "      <td>$400.89</td>\n",
       "      <td>20.0</td>\n",
       "      <td>(1)</td>\n",
       "    </tr>\n",
       "    <tr>\n",
       "      <th>8</th>\n",
       "      <td>ASUS L406MA 14\" Laptop - Star Grey (Intel Cele...</td>\n",
       "      <td>$260.89</td>\n",
       "      <td>65.0</td>\n",
       "      <td>(8)</td>\n",
       "    </tr>\n",
       "    <tr>\n",
       "      <th>9</th>\n",
       "      <td>ASUS L406MA 14\" Laptop - Star Grey (Intel Cele...</td>\n",
       "      <td>$300.89</td>\n",
       "      <td>82.6</td>\n",
       "      <td>(8)</td>\n",
       "    </tr>\n",
       "    <tr>\n",
       "      <th>10</th>\n",
       "      <td>ASUS L406MA 14\" Laptop - Star Grey (Intel Cele...</td>\n",
       "      <td>$430.89</td>\n",
       "      <td>90.0</td>\n",
       "      <td>(10)</td>\n",
       "    </tr>\n",
       "    <tr>\n",
       "      <th>11</th>\n",
       "      <td>ASUS L406MA 14\" Laptop - Star Grey (Intel Cele...</td>\n",
       "      <td>$350.89</td>\n",
       "      <td>93.4</td>\n",
       "      <td>(3)</td>\n",
       "    </tr>\n",
       "    <tr>\n",
       "      <th>12</th>\n",
       "      <td>ASUS L406MA 14\" Laptop - Star Grey (Intel Cele...</td>\n",
       "      <td>$400.89</td>\n",
       "      <td>81.4</td>\n",
       "      <td>(30)</td>\n",
       "    </tr>\n",
       "    <tr>\n",
       "      <th>13</th>\n",
       "      <td>ASUS L406MA 14\" Laptop - Star Grey (Intel Cele...</td>\n",
       "      <td>$370.89</td>\n",
       "      <td>50.0</td>\n",
       "      <td>(4)</td>\n",
       "    </tr>\n",
       "    <tr>\n",
       "      <th>14</th>\n",
       "      <td>ASUS L406MA 14\" Laptop - Star Grey (Intel Cele...</td>\n",
       "      <td>$400.89</td>\n",
       "      <td>71.2</td>\n",
       "      <td>(9)</td>\n",
       "    </tr>\n",
       "    <tr>\n",
       "      <th>15</th>\n",
       "      <td>ASUS L406MA 14\" Laptop - Star Grey (Intel Cele...</td>\n",
       "      <td>$330.89</td>\n",
       "      <td>60.0</td>\n",
       "      <td>(4)</td>\n",
       "    </tr>\n",
       "    <tr>\n",
       "      <th>16</th>\n",
       "      <td>ASUS L406MA 14\" Laptop - Star Grey (Intel Cele...</td>\n",
       "      <td>$285.99</td>\n",
       "      <td>20.0</td>\n",
       "      <td>(1)</td>\n",
       "    </tr>\n",
       "    <tr>\n",
       "      <th>17</th>\n",
       "      <td>ASUS L406MA 14\" Laptop - Star Grey (Intel Cele...</td>\n",
       "      <td>$400.89</td>\n",
       "      <td>30.0</td>\n",
       "      <td>(2)</td>\n",
       "    </tr>\n",
       "    <tr>\n",
       "      <th>18</th>\n",
       "      <td>ASUS L406MA 14\" Laptop - Star Grey (Intel Cele...</td>\n",
       "      <td>$450.89</td>\n",
       "      <td>100.0</td>\n",
       "      <td>(1)</td>\n",
       "    </tr>\n",
       "    <tr>\n",
       "      <th>19</th>\n",
       "      <td>ASUS L406MA 14\" Laptop - Star Grey (Intel Cele...</td>\n",
       "      <td>$650.89</td>\n",
       "      <td>82.8</td>\n",
       "      <td>(14)</td>\n",
       "    </tr>\n",
       "    <tr>\n",
       "      <th>20</th>\n",
       "      <td>ASUS L406MA 14\" Laptop - Star Grey (Intel Cele...</td>\n",
       "      <td>$300.89</td>\n",
       "      <td>60.0</td>\n",
       "      <td>(2)</td>\n",
       "    </tr>\n",
       "  </tbody>\n",
       "</table>\n",
       "</div>"
      ],
      "text/plain": [
       "                                               laptop    price  rating votes\n",
       "0   ASUS L406MA 14\" Laptop - Star Grey (Intel Cele...  $350.89    90.0   (2)\n",
       "1   ASUS L406MA 14\" Laptop - Star Grey (Intel Cele...  $430.89    76.0   (5)\n",
       "2   ASUS L406MA 14\" Laptop - Star Grey (Intel Cele...  $300.89    40.0   (1)\n",
       "3   ASUS L406MA 14\" Laptop - Star Grey (Intel Cele...  $139.99    66.6   (9)\n",
       "4   ASUS L406MA 14\" Laptop - Star Grey (Intel Cele...  $430.89   100.0   (7)\n",
       "5   ASUS L406MA 14\" Laptop - Star Grey (Intel Cele...  $550.89   100.0   (1)\n",
       "6   ASUS L406MA 14\" Laptop - Star Grey (Intel Cele...  $300.89    80.0   (4)\n",
       "7   ASUS L406MA 14\" Laptop - Star Grey (Intel Cele...  $400.89    20.0   (1)\n",
       "8   ASUS L406MA 14\" Laptop - Star Grey (Intel Cele...  $260.89    65.0   (8)\n",
       "9   ASUS L406MA 14\" Laptop - Star Grey (Intel Cele...  $300.89    82.6   (8)\n",
       "10  ASUS L406MA 14\" Laptop - Star Grey (Intel Cele...  $430.89    90.0  (10)\n",
       "11  ASUS L406MA 14\" Laptop - Star Grey (Intel Cele...  $350.89    93.4   (3)\n",
       "12  ASUS L406MA 14\" Laptop - Star Grey (Intel Cele...  $400.89    81.4  (30)\n",
       "13  ASUS L406MA 14\" Laptop - Star Grey (Intel Cele...  $370.89    50.0   (4)\n",
       "14  ASUS L406MA 14\" Laptop - Star Grey (Intel Cele...  $400.89    71.2   (9)\n",
       "15  ASUS L406MA 14\" Laptop - Star Grey (Intel Cele...  $330.89    60.0   (4)\n",
       "16  ASUS L406MA 14\" Laptop - Star Grey (Intel Cele...  $285.99    20.0   (1)\n",
       "17  ASUS L406MA 14\" Laptop - Star Grey (Intel Cele...  $400.89    30.0   (2)\n",
       "18  ASUS L406MA 14\" Laptop - Star Grey (Intel Cele...  $450.89   100.0   (1)\n",
       "19  ASUS L406MA 14\" Laptop - Star Grey (Intel Cele...  $650.89    82.8  (14)\n",
       "20  ASUS L406MA 14\" Laptop - Star Grey (Intel Cele...  $300.89    60.0   (2)"
      ]
     },
     "execution_count": 23,
     "metadata": {},
     "output_type": "execute_result"
    }
   ],
   "source": [
    "import pandas as pd\n",
    "\n",
    "test_df = pd.DataFrame({'laptop': names,\n",
    "                       'price': prices,\n",
    "                       'rating': ratings,\n",
    "                        'votes': votes})\n",
    "print(test_df.info())\n",
    "test_df"
   ]
  },
  {
   "cell_type": "code",
   "execution_count": 24,
   "metadata": {},
   "outputs": [],
   "source": [
    "headers = {\"Accept-Language\": \"en-US, en;q=0.5\"}"
   ]
  },
  {
   "cell_type": "markdown",
   "metadata": {},
   "source": [
    "## The script for multiple pages"
   ]
  },
  {
   "cell_type": "code",
   "execution_count": 25,
   "metadata": {},
   "outputs": [],
   "source": [
    "from IPython.core.display import clear_output"
   ]
  },
  {
   "cell_type": "code",
   "execution_count": 26,
   "metadata": {},
   "outputs": [
    {
     "name": "stderr",
     "output_type": "stream",
     "text": [
      "C:\\Users\\user\\Anaconda3\\lib\\site-packages\\ipykernel_launcher.py:3: UserWarning: Warning Simulation\n",
      "  This is separate from the ipykernel package so we can avoid doing imports until\n"
     ]
    }
   ],
   "source": [
    "from warnings import warn\n",
    "\n",
    "warn(\"Warning Simulation\")"
   ]
  },
  {
   "cell_type": "code",
   "execution_count": 27,
   "metadata": {},
   "outputs": [],
   "source": [
    "pages = [str(i) for i in range(1,4)]\n",
    "Ram_url = ['2', '4',  '8', '12', '16','32']"
   ]
  },
  {
   "cell_type": "code",
   "execution_count": 28,
   "metadata": {},
   "outputs": [],
   "source": [
    "def URL(s,t):\n",
    "    url = 'https://www.bestbuy.ca/en-ca/category/laptops-macbooks/20352.aspx?type=product&page='+s+'&filter=category%253aComputers%2B%2526%2BTablets%253bcategory%253aLaptops%2B%2526%2BMacBooks%253bcustom0ramsize%253a8'+ t    \n",
    "    print(url)"
   ]
  },
  {
   "cell_type": "code",
   "execution_count": 29,
   "metadata": {},
   "outputs": [
    {
     "name": "stdout",
     "output_type": "stream",
     "text": [
      "https://www.bestbuy.ca/en-ca/category/laptops-macbooks/20352.aspx?type=product&page=s&filter=category%253aComputers%2B%2526%2BTablets%253bcategory%253aLaptops%2B%2526%2BMacBooks%253bcustom0ramsize%253a8t\n"
     ]
    }
   ],
   "source": [
    "URL('s','t')"
   ]
  },
  {
   "cell_type": "code",
   "execution_count": 30,
   "metadata": {},
   "outputs": [
    {
     "data": {
      "text/plain": [
       "'https://www.bestbuy.ca/en-ca/category/laptops-macbooks/20352.aspx?type=product&page=1&filter=category%253aComputers%2B%2526%2BTablets%253bcategory%253aLaptops%2B%2526%2BMacBooks%253bcustom0ramsize%253a4'"
      ]
     },
     "execution_count": 30,
     "metadata": {},
     "output_type": "execute_result"
    }
   ],
   "source": [
    "url"
   ]
  },
  {
   "cell_type": "code",
   "execution_count": 31,
   "metadata": {},
   "outputs": [],
   "source": [
    "from time import sleep\n",
    "from random import randint\n",
    "from time import time"
   ]
  },
  {
   "cell_type": "code",
   "execution_count": 32,
   "metadata": {},
   "outputs": [],
   "source": [
    "pages = [str(i) for i in range(1,20)]\n",
    "Ram_url = ['2', '4',  '8', '12', '16','32', '64']"
   ]
  },
  {
   "cell_type": "code",
   "execution_count": 33,
   "metadata": {},
   "outputs": [
    {
     "name": "stdout",
     "output_type": "stream",
     "text": [
      "Request:133; Frequency: 0.07997959740032189 requests/s\n"
     ]
    }
   ],
   "source": [
    "# Redeclaring the lists to store data in\n",
    "names = []\n",
    "prices = []\n",
    "ratings = []\n",
    "votes = []\n",
    "\n",
    "# Preparing the monitoring of the loop\n",
    "start_time = time()\n",
    "requests = 0\n",
    "\n",
    "# For every number of Go of ram in Ram_url\n",
    "for ram_url in Ram_url:\n",
    "\n",
    "    # For every page in the interval 1-54\n",
    "    for page in pages:\n",
    "\n",
    "        # Make a get request\n",
    "        response = get('https://www.bestbuy.ca/en-ca/category/laptops-macbooks/20352.aspx?type=product&page='+page+'&filter=category%253aComputers%2B%2526%2BTablets%253bcategory%253aLaptops%2B%2526%2BMacBooks%253bcustom0ramsize%253a'+ ram_url, headers = headers)\n",
    "       \n",
    "\n",
    "        # Pause the loop\n",
    "        sleep(randint(8,15))\n",
    "\n",
    "        # Monitor the requests\n",
    "        requests += 1\n",
    "        elapsed_time = time() - start_time\n",
    "        print('Request:{}; Frequency: {} requests/s'.format(requests, requests/elapsed_time))\n",
    "        clear_output(wait = True)\n",
    "\n",
    "        # Throw a warning for non-200 status codes\n",
    "        if response.status_code != 200:\n",
    "            warn('Request: {}; Status code: {}'.format(requests, response.status_code))\n",
    "\n",
    "        # Break the loop if the number of requests is greater than expected\n",
    "        if requests > 200:\n",
    "            warn('Number of requests was greater than expected.')  \n",
    "            break \n",
    "\n",
    "        # Parse the content of the request with BeautifulSoup\n",
    "        page_html = BeautifulSoup(response.text, 'html.parser')\n",
    "\n",
    "        # Select all the laptop containers from a single page\n",
    "        laptops_containers = page_html.find_all('div',  class_='item-inner clearfix')\n",
    "\n",
    "        # For every computer in laptops_container\n",
    "        for container in laptops_containers:\n",
    "            # If the computer has a rating, then:\n",
    "            if container.find('div',  class_='rating-stars-yellow') is not None:\n",
    "\n",
    "                # Scrape the name\n",
    "                name = container.h4.a.text\n",
    "                names.append(name)\n",
    "\n",
    "                # Scrape the price \n",
    "                price = container.find('span', class_='amount').text\n",
    "                prices.append(price)\n",
    "\n",
    "                # Scrape the rating\n",
    "                rating = Rating(container)\n",
    "                ratings.append(rating)\n",
    "\n",
    "                \n",
    "                # Scrape the number of votes\n",
    "                vote = container.find('div', class_=\"rating-num\").text\n",
    "                votes.append(vote)"
   ]
  },
  {
   "cell_type": "code",
   "execution_count": 34,
   "metadata": {},
   "outputs": [],
   "source": [
    "laptops_rating = pd.DataFrame({'laptops': names,\n",
    "                       'prices': prices,\n",
    "                       'ratings': ratings,\n",
    "                        'votes': votes})"
   ]
  },
  {
   "cell_type": "code",
   "execution_count": 35,
   "metadata": {},
   "outputs": [
    {
     "name": "stdout",
     "output_type": "stream",
     "text": [
      "<class 'pandas.core.frame.DataFrame'>\n",
      "RangeIndex: 279 entries, 0 to 278\n",
      "Data columns (total 4 columns):\n",
      "laptops    279 non-null object\n",
      "prices     279 non-null object\n",
      "ratings    279 non-null float64\n",
      "votes      279 non-null object\n",
      "dtypes: float64(1), object(3)\n",
      "memory usage: 8.8+ KB\n"
     ]
    }
   ],
   "source": [
    "laptops_rating.info()"
   ]
  },
  {
   "cell_type": "code",
   "execution_count": 36,
   "metadata": {},
   "outputs": [],
   "source": [
    "laptops_rating.to_csv('laptops_rating2019.csv')"
   ]
  },
  {
   "cell_type": "code",
   "execution_count": 37,
   "metadata": {},
   "outputs": [
    {
     "data": {
      "text/html": [
       "<div>\n",
       "<style scoped>\n",
       "    .dataframe tbody tr th:only-of-type {\n",
       "        vertical-align: middle;\n",
       "    }\n",
       "\n",
       "    .dataframe tbody tr th {\n",
       "        vertical-align: top;\n",
       "    }\n",
       "\n",
       "    .dataframe thead th {\n",
       "        text-align: right;\n",
       "    }\n",
       "</style>\n",
       "<table border=\"1\" class=\"dataframe\">\n",
       "  <thead>\n",
       "    <tr style=\"text-align: right;\">\n",
       "      <th></th>\n",
       "      <th>laptops</th>\n",
       "      <th>prices</th>\n",
       "      <th>ratings</th>\n",
       "      <th>votes</th>\n",
       "    </tr>\n",
       "  </thead>\n",
       "  <tbody>\n",
       "    <tr>\n",
       "      <th>0</th>\n",
       "      <td>ASUS C202SA 11.6\" Rugged Chromebook - Dark Gre...</td>\n",
       "      <td>$230.89</td>\n",
       "      <td>66.6</td>\n",
       "      <td>(6)</td>\n",
       "    </tr>\n",
       "    <tr>\n",
       "      <th>1</th>\n",
       "      <td>Samsung ChromeBook XE303C12 11.6\", EXYNOS 5 Du...</td>\n",
       "      <td>$179.99</td>\n",
       "      <td>20.0</td>\n",
       "      <td>(1)</td>\n",
       "    </tr>\n",
       "    <tr>\n",
       "      <th>2</th>\n",
       "      <td>Acer CB3 15.6\" Chromebook - Granite Grey (Inte...</td>\n",
       "      <td>$280.85</td>\n",
       "      <td>100.0</td>\n",
       "      <td>(6)</td>\n",
       "    </tr>\n",
       "    <tr>\n",
       "      <th>3</th>\n",
       "      <td>ASUS Chromebook 11.6\" Laptop - Dark Grey (Inte...</td>\n",
       "      <td>$200.89</td>\n",
       "      <td>96.6</td>\n",
       "      <td>(6)</td>\n",
       "    </tr>\n",
       "    <tr>\n",
       "      <th>4</th>\n",
       "      <td>Dell Latitude D620 14.1\" TFT Laptop, Intel Cor...</td>\n",
       "      <td>$159.99</td>\n",
       "      <td>20.0</td>\n",
       "      <td>(1)</td>\n",
       "    </tr>\n",
       "  </tbody>\n",
       "</table>\n",
       "</div>"
      ],
      "text/plain": [
       "                                             laptops   prices  ratings votes\n",
       "0  ASUS C202SA 11.6\" Rugged Chromebook - Dark Gre...  $230.89     66.6   (6)\n",
       "1  Samsung ChromeBook XE303C12 11.6\", EXYNOS 5 Du...  $179.99     20.0   (1)\n",
       "2  Acer CB3 15.6\" Chromebook - Granite Grey (Inte...  $280.85    100.0   (6)\n",
       "3  ASUS Chromebook 11.6\" Laptop - Dark Grey (Inte...  $200.89     96.6   (6)\n",
       "4  Dell Latitude D620 14.1\" TFT Laptop, Intel Cor...  $159.99     20.0   (1)"
      ]
     },
     "execution_count": 37,
     "metadata": {},
     "output_type": "execute_result"
    }
   ],
   "source": [
    "laptops_rating.head()"
   ]
  },
  {
   "cell_type": "code",
   "execution_count": 38,
   "metadata": {},
   "outputs": [],
   "source": [
    "df = pd.read_csv('laptops_rating2019.csv')"
   ]
  },
  {
   "cell_type": "code",
   "execution_count": 39,
   "metadata": {},
   "outputs": [
    {
     "data": {
      "text/html": [
       "<div>\n",
       "<style scoped>\n",
       "    .dataframe tbody tr th:only-of-type {\n",
       "        vertical-align: middle;\n",
       "    }\n",
       "\n",
       "    .dataframe tbody tr th {\n",
       "        vertical-align: top;\n",
       "    }\n",
       "\n",
       "    .dataframe thead th {\n",
       "        text-align: right;\n",
       "    }\n",
       "</style>\n",
       "<table border=\"1\" class=\"dataframe\">\n",
       "  <thead>\n",
       "    <tr style=\"text-align: right;\">\n",
       "      <th></th>\n",
       "      <th>Unnamed: 0</th>\n",
       "      <th>laptops</th>\n",
       "      <th>prices</th>\n",
       "      <th>ratings</th>\n",
       "      <th>votes</th>\n",
       "    </tr>\n",
       "  </thead>\n",
       "  <tbody>\n",
       "    <tr>\n",
       "      <th>0</th>\n",
       "      <td>0</td>\n",
       "      <td>ASUS C202SA 11.6\" Rugged Chromebook - Dark Gre...</td>\n",
       "      <td>$230.89</td>\n",
       "      <td>66.6</td>\n",
       "      <td>(6)</td>\n",
       "    </tr>\n",
       "    <tr>\n",
       "      <th>1</th>\n",
       "      <td>1</td>\n",
       "      <td>Samsung ChromeBook XE303C12 11.6\", EXYNOS 5 Du...</td>\n",
       "      <td>$179.99</td>\n",
       "      <td>20.0</td>\n",
       "      <td>(1)</td>\n",
       "    </tr>\n",
       "    <tr>\n",
       "      <th>2</th>\n",
       "      <td>2</td>\n",
       "      <td>Acer CB3 15.6\" Chromebook - Granite Grey (Inte...</td>\n",
       "      <td>$280.85</td>\n",
       "      <td>100.0</td>\n",
       "      <td>(6)</td>\n",
       "    </tr>\n",
       "    <tr>\n",
       "      <th>3</th>\n",
       "      <td>3</td>\n",
       "      <td>ASUS Chromebook 11.6\" Laptop - Dark Grey (Inte...</td>\n",
       "      <td>$200.89</td>\n",
       "      <td>96.6</td>\n",
       "      <td>(6)</td>\n",
       "    </tr>\n",
       "    <tr>\n",
       "      <th>4</th>\n",
       "      <td>4</td>\n",
       "      <td>Dell Latitude D620 14.1\" TFT Laptop, Intel Cor...</td>\n",
       "      <td>$159.99</td>\n",
       "      <td>20.0</td>\n",
       "      <td>(1)</td>\n",
       "    </tr>\n",
       "    <tr>\n",
       "      <th>5</th>\n",
       "      <td>5</td>\n",
       "      <td>Lenovo N23 Series Laptop with 4GB RAM and 32GB...</td>\n",
       "      <td>$259.99</td>\n",
       "      <td>60.0</td>\n",
       "      <td>(1)</td>\n",
       "    </tr>\n",
       "    <tr>\n",
       "      <th>6</th>\n",
       "      <td>6</td>\n",
       "      <td>Lenovo IdeaPad MIIX 310-10ICR 80SG001FUS 10.1\"...</td>\n",
       "      <td>$350.89</td>\n",
       "      <td>60.0</td>\n",
       "      <td>(4)</td>\n",
       "    </tr>\n",
       "    <tr>\n",
       "      <th>7</th>\n",
       "      <td>7</td>\n",
       "      <td>ASUS L406MA 14\" Laptop - Star Grey (Intel Cele...</td>\n",
       "      <td>$350.89</td>\n",
       "      <td>90.0</td>\n",
       "      <td>(2)</td>\n",
       "    </tr>\n",
       "    <tr>\n",
       "      <th>8</th>\n",
       "      <td>8</td>\n",
       "      <td>Acer Swift 14\" Laptop - Silver (Intel Pentium ...</td>\n",
       "      <td>$430.89</td>\n",
       "      <td>76.0</td>\n",
       "      <td>(5)</td>\n",
       "    </tr>\n",
       "    <tr>\n",
       "      <th>9</th>\n",
       "      <td>9</td>\n",
       "      <td>HP 14\" Laptop - Snow White (Intel Celeron Proc...</td>\n",
       "      <td>$300.89</td>\n",
       "      <td>40.0</td>\n",
       "      <td>(1)</td>\n",
       "    </tr>\n",
       "    <tr>\n",
       "      <th>10</th>\n",
       "      <td>10</td>\n",
       "      <td>Refurbished Lenovo ThinkPad L430, Intel Celero...</td>\n",
       "      <td>$139.99</td>\n",
       "      <td>66.6</td>\n",
       "      <td>(9)</td>\n",
       "    </tr>\n",
       "    <tr>\n",
       "      <th>11</th>\n",
       "      <td>11</td>\n",
       "      <td>ASUS C523NA 15.6\" Touchscreen Chromebook (Inte...</td>\n",
       "      <td>$430.89</td>\n",
       "      <td>100.0</td>\n",
       "      <td>(7)</td>\n",
       "    </tr>\n",
       "    <tr>\n",
       "      <th>12</th>\n",
       "      <td>12</td>\n",
       "      <td>HP 14\" Laptop - Natural Silver/Ash Silver (Int...</td>\n",
       "      <td>$550.89</td>\n",
       "      <td>100.0</td>\n",
       "      <td>(1)</td>\n",
       "    </tr>\n",
       "    <tr>\n",
       "      <th>13</th>\n",
       "      <td>13</td>\n",
       "      <td>Acer 11.6\" Chromebook - White (Intel Celeron N...</td>\n",
       "      <td>$300.89</td>\n",
       "      <td>80.0</td>\n",
       "      <td>(4)</td>\n",
       "    </tr>\n",
       "    <tr>\n",
       "      <th>14</th>\n",
       "      <td>14</td>\n",
       "      <td>Lenovo IdeaPad 15.6\" Laptop - Black (AMD E2-90...</td>\n",
       "      <td>$400.89</td>\n",
       "      <td>20.0</td>\n",
       "      <td>(1)</td>\n",
       "    </tr>\n",
       "    <tr>\n",
       "      <th>15</th>\n",
       "      <td>15</td>\n",
       "      <td>ASUS C223NA 11.6\" Chromebook - Grey (Intel Cel...</td>\n",
       "      <td>$260.89</td>\n",
       "      <td>65.0</td>\n",
       "      <td>(8)</td>\n",
       "    </tr>\n",
       "    <tr>\n",
       "      <th>16</th>\n",
       "      <td>16</td>\n",
       "      <td>Lenovo S330 14\" Chromebook - Business Black (M...</td>\n",
       "      <td>$300.89</td>\n",
       "      <td>82.6</td>\n",
       "      <td>(8)</td>\n",
       "    </tr>\n",
       "    <tr>\n",
       "      <th>17</th>\n",
       "      <td>17</td>\n",
       "      <td>ASUS 14\" Laptop - Star Grey (Intel Pentium Sil...</td>\n",
       "      <td>$430.89</td>\n",
       "      <td>90.0</td>\n",
       "      <td>(10)</td>\n",
       "    </tr>\n",
       "    <tr>\n",
       "      <th>18</th>\n",
       "      <td>18</td>\n",
       "      <td>HP 14\" Laptop - Natural Silver (Intel Celeron ...</td>\n",
       "      <td>$350.89</td>\n",
       "      <td>93.4</td>\n",
       "      <td>(3)</td>\n",
       "    </tr>\n",
       "    <tr>\n",
       "      <th>19</th>\n",
       "      <td>19</td>\n",
       "      <td>Acer Chromebook 11.6\" Touchscreen Laptop - Whi...</td>\n",
       "      <td>$400.89</td>\n",
       "      <td>81.4</td>\n",
       "      <td>(30)</td>\n",
       "    </tr>\n",
       "  </tbody>\n",
       "</table>\n",
       "</div>"
      ],
      "text/plain": [
       "    Unnamed: 0                                            laptops   prices  \\\n",
       "0            0  ASUS C202SA 11.6\" Rugged Chromebook - Dark Gre...  $230.89   \n",
       "1            1  Samsung ChromeBook XE303C12 11.6\", EXYNOS 5 Du...  $179.99   \n",
       "2            2  Acer CB3 15.6\" Chromebook - Granite Grey (Inte...  $280.85   \n",
       "3            3  ASUS Chromebook 11.6\" Laptop - Dark Grey (Inte...  $200.89   \n",
       "4            4  Dell Latitude D620 14.1\" TFT Laptop, Intel Cor...  $159.99   \n",
       "5            5  Lenovo N23 Series Laptop with 4GB RAM and 32GB...  $259.99   \n",
       "6            6  Lenovo IdeaPad MIIX 310-10ICR 80SG001FUS 10.1\"...  $350.89   \n",
       "7            7  ASUS L406MA 14\" Laptop - Star Grey (Intel Cele...  $350.89   \n",
       "8            8  Acer Swift 14\" Laptop - Silver (Intel Pentium ...  $430.89   \n",
       "9            9  HP 14\" Laptop - Snow White (Intel Celeron Proc...  $300.89   \n",
       "10          10  Refurbished Lenovo ThinkPad L430, Intel Celero...  $139.99   \n",
       "11          11  ASUS C523NA 15.6\" Touchscreen Chromebook (Inte...  $430.89   \n",
       "12          12  HP 14\" Laptop - Natural Silver/Ash Silver (Int...  $550.89   \n",
       "13          13  Acer 11.6\" Chromebook - White (Intel Celeron N...  $300.89   \n",
       "14          14  Lenovo IdeaPad 15.6\" Laptop - Black (AMD E2-90...  $400.89   \n",
       "15          15  ASUS C223NA 11.6\" Chromebook - Grey (Intel Cel...  $260.89   \n",
       "16          16  Lenovo S330 14\" Chromebook - Business Black (M...  $300.89   \n",
       "17          17  ASUS 14\" Laptop - Star Grey (Intel Pentium Sil...  $430.89   \n",
       "18          18  HP 14\" Laptop - Natural Silver (Intel Celeron ...  $350.89   \n",
       "19          19  Acer Chromebook 11.6\" Touchscreen Laptop - Whi...  $400.89   \n",
       "\n",
       "    ratings votes  \n",
       "0      66.6   (6)  \n",
       "1      20.0   (1)  \n",
       "2     100.0   (6)  \n",
       "3      96.6   (6)  \n",
       "4      20.0   (1)  \n",
       "5      60.0   (1)  \n",
       "6      60.0   (4)  \n",
       "7      90.0   (2)  \n",
       "8      76.0   (5)  \n",
       "9      40.0   (1)  \n",
       "10     66.6   (9)  \n",
       "11    100.0   (7)  \n",
       "12    100.0   (1)  \n",
       "13     80.0   (4)  \n",
       "14     20.0   (1)  \n",
       "15     65.0   (8)  \n",
       "16     82.6   (8)  \n",
       "17     90.0  (10)  \n",
       "18     93.4   (3)  \n",
       "19     81.4  (30)  "
      ]
     },
     "execution_count": 39,
     "metadata": {},
     "output_type": "execute_result"
    }
   ],
   "source": [
    "df.head(20)"
   ]
  },
  {
   "cell_type": "code",
   "execution_count": 40,
   "metadata": {},
   "outputs": [
    {
     "name": "stdout",
     "output_type": "stream",
     "text": [
      "<class 'pandas.core.frame.DataFrame'>\n",
      "RangeIndex: 279 entries, 0 to 278\n",
      "Data columns (total 5 columns):\n",
      "Unnamed: 0    279 non-null int64\n",
      "laptops       279 non-null object\n",
      "prices        279 non-null object\n",
      "ratings       279 non-null float64\n",
      "votes         279 non-null object\n",
      "dtypes: float64(1), int64(1), object(3)\n",
      "memory usage: 11.0+ KB\n"
     ]
    }
   ],
   "source": [
    "df.info()"
   ]
  },
  {
   "cell_type": "markdown",
   "metadata": {},
   "source": [
    "# Data cleaning"
   ]
  },
  {
   "cell_type": "code",
   "execution_count": 41,
   "metadata": {},
   "outputs": [
    {
     "data": {
      "text/plain": [
       "'$230.89'"
      ]
     },
     "execution_count": 41,
     "metadata": {},
     "output_type": "execute_result"
    }
   ],
   "source": [
    "df['prices'].iloc[0]"
   ]
  },
  {
   "cell_type": "code",
   "execution_count": 42,
   "metadata": {},
   "outputs": [],
   "source": [
    "def prix(x):\n",
    "    if ',' in x:\n",
    "        x = x.replace(',','')\n",
    "        return float(x[1:])\n",
    "    else:\n",
    "        return float(x[1:])"
   ]
  },
  {
   "cell_type": "code",
   "execution_count": 43,
   "metadata": {},
   "outputs": [],
   "source": [
    "df['prices'] = [prix(x) for x in df['prices']]"
   ]
  },
  {
   "cell_type": "code",
   "execution_count": 44,
   "metadata": {},
   "outputs": [
    {
     "data": {
      "text/plain": [
       "230.88999999999999"
      ]
     },
     "execution_count": 44,
     "metadata": {},
     "output_type": "execute_result"
    }
   ],
   "source": [
    "df['prices'].iloc[0]"
   ]
  },
  {
   "cell_type": "code",
   "execution_count": 45,
   "metadata": {},
   "outputs": [],
   "source": [
    "def Remove_parenthese(x):\n",
    "    y = len(x)-1\n",
    "    z = x[1:y]\n",
    "    z = float(z)\n",
    "    return z"
   ]
  },
  {
   "cell_type": "code",
   "execution_count": 46,
   "metadata": {},
   "outputs": [],
   "source": [
    "df['votes'] = [Remove_parenthese(x) for x in df['votes']]"
   ]
  },
  {
   "cell_type": "code",
   "execution_count": 47,
   "metadata": {},
   "outputs": [
    {
     "data": {
      "text/plain": [
       "2.0"
      ]
     },
     "execution_count": 47,
     "metadata": {},
     "output_type": "execute_result"
    }
   ],
   "source": [
    "float(df['votes'].iloc[120])"
   ]
  },
  {
   "cell_type": "markdown",
   "metadata": {},
   "source": [
    "# Descriptive statistic measures of the data"
   ]
  },
  {
   "cell_type": "code",
   "execution_count": 48,
   "metadata": {},
   "outputs": [
    {
     "data": {
      "text/html": [
       "<div>\n",
       "<style scoped>\n",
       "    .dataframe tbody tr th:only-of-type {\n",
       "        vertical-align: middle;\n",
       "    }\n",
       "\n",
       "    .dataframe tbody tr th {\n",
       "        vertical-align: top;\n",
       "    }\n",
       "\n",
       "    .dataframe thead th {\n",
       "        text-align: right;\n",
       "    }\n",
       "</style>\n",
       "<table border=\"1\" class=\"dataframe\">\n",
       "  <thead>\n",
       "    <tr style=\"text-align: right;\">\n",
       "      <th></th>\n",
       "      <th>prices</th>\n",
       "      <th>ratings</th>\n",
       "      <th>votes</th>\n",
       "    </tr>\n",
       "  </thead>\n",
       "  <tbody>\n",
       "    <tr>\n",
       "      <th>count</th>\n",
       "      <td>279.000000</td>\n",
       "      <td>279.000000</td>\n",
       "      <td>279.000000</td>\n",
       "    </tr>\n",
       "    <tr>\n",
       "      <th>mean</th>\n",
       "      <td>1247.097814</td>\n",
       "      <td>75.168459</td>\n",
       "      <td>75.225806</td>\n",
       "    </tr>\n",
       "    <tr>\n",
       "      <th>std</th>\n",
       "      <td>961.149030</td>\n",
       "      <td>23.669800</td>\n",
       "      <td>453.330921</td>\n",
       "    </tr>\n",
       "    <tr>\n",
       "      <th>min</th>\n",
       "      <td>139.990000</td>\n",
       "      <td>20.000000</td>\n",
       "      <td>1.000000</td>\n",
       "    </tr>\n",
       "    <tr>\n",
       "      <th>25%</th>\n",
       "      <td>550.890000</td>\n",
       "      <td>60.000000</td>\n",
       "      <td>2.000000</td>\n",
       "    </tr>\n",
       "    <tr>\n",
       "      <th>50%</th>\n",
       "      <td>1000.890000</td>\n",
       "      <td>80.000000</td>\n",
       "      <td>4.000000</td>\n",
       "    </tr>\n",
       "    <tr>\n",
       "      <th>75%</th>\n",
       "      <td>1715.890000</td>\n",
       "      <td>96.000000</td>\n",
       "      <td>10.000000</td>\n",
       "    </tr>\n",
       "    <tr>\n",
       "      <th>max</th>\n",
       "      <td>9489.000000</td>\n",
       "      <td>100.000000</td>\n",
       "      <td>5977.000000</td>\n",
       "    </tr>\n",
       "  </tbody>\n",
       "</table>\n",
       "</div>"
      ],
      "text/plain": [
       "            prices     ratings        votes\n",
       "count   279.000000  279.000000   279.000000\n",
       "mean   1247.097814   75.168459    75.225806\n",
       "std     961.149030   23.669800   453.330921\n",
       "min     139.990000   20.000000     1.000000\n",
       "25%     550.890000   60.000000     2.000000\n",
       "50%    1000.890000   80.000000     4.000000\n",
       "75%    1715.890000   96.000000    10.000000\n",
       "max    9489.000000  100.000000  5977.000000"
      ]
     },
     "execution_count": 48,
     "metadata": {},
     "output_type": "execute_result"
    }
   ],
   "source": [
    "df[['prices', 'ratings', 'votes']].describe()"
   ]
  },
  {
   "cell_type": "code",
   "execution_count": 49,
   "metadata": {},
   "outputs": [],
   "source": [
    "dfmax = df[df['votes']==5977.000000]"
   ]
  },
  {
   "cell_type": "code",
   "execution_count": 50,
   "metadata": {},
   "outputs": [
    {
     "data": {
      "text/html": [
       "<div>\n",
       "<style scoped>\n",
       "    .dataframe tbody tr th:only-of-type {\n",
       "        vertical-align: middle;\n",
       "    }\n",
       "\n",
       "    .dataframe tbody tr th {\n",
       "        vertical-align: top;\n",
       "    }\n",
       "\n",
       "    .dataframe thead th {\n",
       "        text-align: right;\n",
       "    }\n",
       "</style>\n",
       "<table border=\"1\" class=\"dataframe\">\n",
       "  <thead>\n",
       "    <tr style=\"text-align: right;\">\n",
       "      <th></th>\n",
       "      <th>laptops</th>\n",
       "      <th>prices</th>\n",
       "      <th>ratings</th>\n",
       "    </tr>\n",
       "  </thead>\n",
       "  <tbody>\n",
       "    <tr>\n",
       "      <th>59</th>\n",
       "      <td>Apple MacBook Air 13.3\" (Intel Core i5 1.8 GHz...</td>\n",
       "      <td>1200.89</td>\n",
       "      <td>97.0</td>\n",
       "    </tr>\n",
       "  </tbody>\n",
       "</table>\n",
       "</div>"
      ],
      "text/plain": [
       "                                              laptops   prices  ratings\n",
       "59  Apple MacBook Air 13.3\" (Intel Core i5 1.8 GHz...  1200.89     97.0"
      ]
     },
     "execution_count": 50,
     "metadata": {},
     "output_type": "execute_result"
    }
   ],
   "source": [
    "dfmax[['laptops', 'prices', 'ratings']]"
   ]
  },
  {
   "cell_type": "code",
   "execution_count": 51,
   "metadata": {},
   "outputs": [],
   "source": [
    "dfmax_ratings = df[df['ratings']==100.0]"
   ]
  },
  {
   "cell_type": "code",
   "execution_count": 52,
   "metadata": {},
   "outputs": [
    {
     "data": {
      "text/html": [
       "<div>\n",
       "<style scoped>\n",
       "    .dataframe tbody tr th:only-of-type {\n",
       "        vertical-align: middle;\n",
       "    }\n",
       "\n",
       "    .dataframe tbody tr th {\n",
       "        vertical-align: top;\n",
       "    }\n",
       "\n",
       "    .dataframe thead th {\n",
       "        text-align: right;\n",
       "    }\n",
       "</style>\n",
       "<table border=\"1\" class=\"dataframe\">\n",
       "  <thead>\n",
       "    <tr style=\"text-align: right;\">\n",
       "      <th></th>\n",
       "      <th>laptops</th>\n",
       "      <th>prices</th>\n",
       "      <th>votes</th>\n",
       "    </tr>\n",
       "  </thead>\n",
       "  <tbody>\n",
       "    <tr>\n",
       "      <th>2</th>\n",
       "      <td>Acer CB3 15.6\" Chromebook - Granite Grey (Inte...</td>\n",
       "      <td>280.85</td>\n",
       "      <td>6.0</td>\n",
       "    </tr>\n",
       "    <tr>\n",
       "      <th>11</th>\n",
       "      <td>ASUS C523NA 15.6\" Touchscreen Chromebook (Inte...</td>\n",
       "      <td>430.89</td>\n",
       "      <td>7.0</td>\n",
       "    </tr>\n",
       "    <tr>\n",
       "      <th>12</th>\n",
       "      <td>HP 14\" Laptop - Natural Silver/Ash Silver (Int...</td>\n",
       "      <td>550.89</td>\n",
       "      <td>1.0</td>\n",
       "    </tr>\n",
       "    <tr>\n",
       "      <th>25</th>\n",
       "      <td>Acer R 13 13.3\" Touchscreen 2-in-1 Chromebook ...</td>\n",
       "      <td>450.89</td>\n",
       "      <td>1.0</td>\n",
       "    </tr>\n",
       "    <tr>\n",
       "      <th>37</th>\n",
       "      <td>ASUS Transformer Book 10.1\" 2-in-1 Laptop - Gl...</td>\n",
       "      <td>460.89</td>\n",
       "      <td>1.0</td>\n",
       "    </tr>\n",
       "    <tr>\n",
       "      <th>41</th>\n",
       "      <td>Dell Latitude E6230 Laptop Intel Core i5 3320m...</td>\n",
       "      <td>269.99</td>\n",
       "      <td>1.0</td>\n",
       "    </tr>\n",
       "    <tr>\n",
       "      <th>44</th>\n",
       "      <td>Lenovo N42-20 14\" Touchscreen Chromebook (Inte...</td>\n",
       "      <td>400.99</td>\n",
       "      <td>1.0</td>\n",
       "    </tr>\n",
       "    <tr>\n",
       "      <th>46</th>\n",
       "      <td>Acer Chromebook 14 NX.GC2AA.010 14\" Chromebook...</td>\n",
       "      <td>405.58</td>\n",
       "      <td>2.0</td>\n",
       "    </tr>\n",
       "    <tr>\n",
       "      <th>52</th>\n",
       "      <td>Lenovo ThinkPad E575 20H8000HUS 15.6\" 16:9 Not...</td>\n",
       "      <td>900.03</td>\n",
       "      <td>1.0</td>\n",
       "    </tr>\n",
       "    <tr>\n",
       "      <th>56</th>\n",
       "      <td>Lenovo ThinkPad X130e Laptop 11.6\", AMD E450, ...</td>\n",
       "      <td>199.00</td>\n",
       "      <td>1.0</td>\n",
       "    </tr>\n",
       "    <tr>\n",
       "      <th>57</th>\n",
       "      <td>HP ProBook 450 G5 15.6\" LCD Notebook - Intel C...</td>\n",
       "      <td>834.39</td>\n",
       "      <td>1.0</td>\n",
       "    </tr>\n",
       "    <tr>\n",
       "      <th>66</th>\n",
       "      <td>Acer Aspire 5 15.6\" Laptop - Silver (Intel Cor...</td>\n",
       "      <td>800.89</td>\n",
       "      <td>2.0</td>\n",
       "    </tr>\n",
       "    <tr>\n",
       "      <th>84</th>\n",
       "      <td>Apple MacBook Air 13.3\" (Intel Core i5 1.8 GHz...</td>\n",
       "      <td>1100.89</td>\n",
       "      <td>1.0</td>\n",
       "    </tr>\n",
       "    <tr>\n",
       "      <th>120</th>\n",
       "      <td>BUNDLE with Headset - MSI GF63 8RC-252CA Gamin...</td>\n",
       "      <td>1306.99</td>\n",
       "      <td>2.0</td>\n",
       "    </tr>\n",
       "    <tr>\n",
       "      <th>122</th>\n",
       "      <td>ASUS VivoBook S15 15.6\" Laptop - Gun Metal (In...</td>\n",
       "      <td>950.89</td>\n",
       "      <td>1.0</td>\n",
       "    </tr>\n",
       "    <tr>\n",
       "      <th>125</th>\n",
       "      <td>Apple MacBook Air 13.3\" (Intel Core i5 1.8 GHz...</td>\n",
       "      <td>1350.89</td>\n",
       "      <td>1.0</td>\n",
       "    </tr>\n",
       "    <tr>\n",
       "      <th>130</th>\n",
       "      <td>Acer Spin 5 13.3\" 2-in-1 Laptop - Silver (Inte...</td>\n",
       "      <td>850.89</td>\n",
       "      <td>2.0</td>\n",
       "    </tr>\n",
       "    <tr>\n",
       "      <th>136</th>\n",
       "      <td>Lenovo T440S Ultrabook, Intel Core i7 4th Gen,...</td>\n",
       "      <td>699.99</td>\n",
       "      <td>1.0</td>\n",
       "    </tr>\n",
       "    <tr>\n",
       "      <th>143</th>\n",
       "      <td>Dell 13.3\" Touchscreen 2-in-1 Laptop - Grey (I...</td>\n",
       "      <td>1150.89</td>\n",
       "      <td>4.0</td>\n",
       "    </tr>\n",
       "    <tr>\n",
       "      <th>147</th>\n",
       "      <td>ASUS ZenBook 14\" Laptop - Quartz Grey (Intel C...</td>\n",
       "      <td>900.89</td>\n",
       "      <td>2.0</td>\n",
       "    </tr>\n",
       "    <tr>\n",
       "      <th>151</th>\n",
       "      <td>Apple MacBook Air 13.3\" w/ Retina - Gold (Inte...</td>\n",
       "      <td>1500.89</td>\n",
       "      <td>1.0</td>\n",
       "    </tr>\n",
       "    <tr>\n",
       "      <th>153</th>\n",
       "      <td>Lenovo T450, Intel Core i7 5th Gen, 8GB RAM, 2...</td>\n",
       "      <td>599.99</td>\n",
       "      <td>1.0</td>\n",
       "    </tr>\n",
       "    <tr>\n",
       "      <th>158</th>\n",
       "      <td>ASUS B9440 14\" Laptop - Grey Magnesium (Intel ...</td>\n",
       "      <td>1300.89</td>\n",
       "      <td>1.0</td>\n",
       "    </tr>\n",
       "    <tr>\n",
       "      <th>164</th>\n",
       "      <td>Dell Latitude E6230 Laptop Intel Core i5 3320m...</td>\n",
       "      <td>319.99</td>\n",
       "      <td>1.0</td>\n",
       "    </tr>\n",
       "    <tr>\n",
       "      <th>167</th>\n",
       "      <td>Microsoft Surface 2 13.5\" Touchscreen Laptop -...</td>\n",
       "      <td>1750.89</td>\n",
       "      <td>1.0</td>\n",
       "    </tr>\n",
       "    <tr>\n",
       "      <th>169</th>\n",
       "      <td>Lenovo Flex 5 15.6\" Touchscreen 2-in-1 Laptop-...</td>\n",
       "      <td>1100.89</td>\n",
       "      <td>1.0</td>\n",
       "    </tr>\n",
       "    <tr>\n",
       "      <th>181</th>\n",
       "      <td>Apple MacBook 12\" w/ Retina - Gold (Intel Core...</td>\n",
       "      <td>1730.89</td>\n",
       "      <td>1.0</td>\n",
       "    </tr>\n",
       "    <tr>\n",
       "      <th>198</th>\n",
       "      <td>Apple MacBook Pro 13.3\" Laptop (Intel Core i5 ...</td>\n",
       "      <td>1730.89</td>\n",
       "      <td>1.0</td>\n",
       "    </tr>\n",
       "    <tr>\n",
       "      <th>205</th>\n",
       "      <td>HP ENVY 17.3\" Touchscreen Laptop - Silver (Int...</td>\n",
       "      <td>1500.89</td>\n",
       "      <td>1.0</td>\n",
       "    </tr>\n",
       "    <tr>\n",
       "      <th>208</th>\n",
       "      <td>HP OMEN 15.6\" Gaming Laptop - Black (Intel Cor...</td>\n",
       "      <td>1600.88</td>\n",
       "      <td>1.0</td>\n",
       "    </tr>\n",
       "    <tr>\n",
       "      <th>221</th>\n",
       "      <td>ASUS ZenBook 14\" Laptop - Grey (Intel Core i5-...</td>\n",
       "      <td>1100.89</td>\n",
       "      <td>3.0</td>\n",
       "    </tr>\n",
       "    <tr>\n",
       "      <th>225</th>\n",
       "      <td>HP x360 13.3\" Touchscreen 2-in-1 Laptop - Silv...</td>\n",
       "      <td>1900.89</td>\n",
       "      <td>2.0</td>\n",
       "    </tr>\n",
       "    <tr>\n",
       "      <th>230</th>\n",
       "      <td>Acer Predator 15.6\" Gaming Laptop (Intel Core ...</td>\n",
       "      <td>1700.89</td>\n",
       "      <td>1.0</td>\n",
       "    </tr>\n",
       "    <tr>\n",
       "      <th>234</th>\n",
       "      <td>Alienware 15.6\" Gaming Laptop (Intel Core i7-8...</td>\n",
       "      <td>2500.89</td>\n",
       "      <td>1.0</td>\n",
       "    </tr>\n",
       "    <tr>\n",
       "      <th>240</th>\n",
       "      <td>Refurbished Lenovo W540 i7-4800MQ @ 2.7GHz, 16...</td>\n",
       "      <td>625.99</td>\n",
       "      <td>2.0</td>\n",
       "    </tr>\n",
       "    <tr>\n",
       "      <th>242</th>\n",
       "      <td>Microsoft Surface Book 2 15\" 2-in-1 Laptop - S...</td>\n",
       "      <td>4200.89</td>\n",
       "      <td>1.0</td>\n",
       "    </tr>\n",
       "    <tr>\n",
       "      <th>244</th>\n",
       "      <td>HP Zbook 15 G2, Core i7 Quad Core, 16GB RAM, 2...</td>\n",
       "      <td>749.99</td>\n",
       "      <td>1.0</td>\n",
       "    </tr>\n",
       "    <tr>\n",
       "      <th>249</th>\n",
       "      <td>Asus ROG 15.6\" Gaming Laptop (Intel Core i7/1T...</td>\n",
       "      <td>2500.89</td>\n",
       "      <td>2.0</td>\n",
       "    </tr>\n",
       "    <tr>\n",
       "      <th>252</th>\n",
       "      <td>MSI Leopard GP73 8RE-081CA 17.3\" Gaming Laptop...</td>\n",
       "      <td>1880.39</td>\n",
       "      <td>2.0</td>\n",
       "    </tr>\n",
       "    <tr>\n",
       "      <th>255</th>\n",
       "      <td>ASUS ROG GL503VM 15.6\" Laptop - Dragon Scale (...</td>\n",
       "      <td>1994.88</td>\n",
       "      <td>3.0</td>\n",
       "    </tr>\n",
       "    <tr>\n",
       "      <th>256</th>\n",
       "      <td>ASUS 17.3\" Gaming Laptop - Black (Core i7-8750...</td>\n",
       "      <td>1841.89</td>\n",
       "      <td>1.0</td>\n",
       "    </tr>\n",
       "    <tr>\n",
       "      <th>259</th>\n",
       "      <td>Acer Nitro 5 15.6\" Laptop, i7-7700HQ, 16GB DDR...</td>\n",
       "      <td>1695.00</td>\n",
       "      <td>1.0</td>\n",
       "    </tr>\n",
       "    <tr>\n",
       "      <th>261</th>\n",
       "      <td>Microsoft Surface 2 13.5\" Touchscreen Laptop -...</td>\n",
       "      <td>2550.89</td>\n",
       "      <td>1.0</td>\n",
       "    </tr>\n",
       "    <tr>\n",
       "      <th>266</th>\n",
       "      <td>Apple MacBook Pro 15.4\" Laptop w/ Touch Bar (I...</td>\n",
       "      <td>3000.89</td>\n",
       "      <td>1.0</td>\n",
       "    </tr>\n",
       "    <tr>\n",
       "      <th>269</th>\n",
       "      <td>ASUS ROG GL502VM 15.6\" Gaming Laptop (Intel Co...</td>\n",
       "      <td>1800.89</td>\n",
       "      <td>1.0</td>\n",
       "    </tr>\n",
       "    <tr>\n",
       "      <th>277</th>\n",
       "      <td>Dell XPS 15.6\" Touchscreen Laptop - Silver (In...</td>\n",
       "      <td>2950.89</td>\n",
       "      <td>2.0</td>\n",
       "    </tr>\n",
       "  </tbody>\n",
       "</table>\n",
       "</div>"
      ],
      "text/plain": [
       "                                               laptops   prices  votes\n",
       "2    Acer CB3 15.6\" Chromebook - Granite Grey (Inte...   280.85    6.0\n",
       "11   ASUS C523NA 15.6\" Touchscreen Chromebook (Inte...   430.89    7.0\n",
       "12   HP 14\" Laptop - Natural Silver/Ash Silver (Int...   550.89    1.0\n",
       "25   Acer R 13 13.3\" Touchscreen 2-in-1 Chromebook ...   450.89    1.0\n",
       "37   ASUS Transformer Book 10.1\" 2-in-1 Laptop - Gl...   460.89    1.0\n",
       "41   Dell Latitude E6230 Laptop Intel Core i5 3320m...   269.99    1.0\n",
       "44   Lenovo N42-20 14\" Touchscreen Chromebook (Inte...   400.99    1.0\n",
       "46   Acer Chromebook 14 NX.GC2AA.010 14\" Chromebook...   405.58    2.0\n",
       "52   Lenovo ThinkPad E575 20H8000HUS 15.6\" 16:9 Not...   900.03    1.0\n",
       "56   Lenovo ThinkPad X130e Laptop 11.6\", AMD E450, ...   199.00    1.0\n",
       "57   HP ProBook 450 G5 15.6\" LCD Notebook - Intel C...   834.39    1.0\n",
       "66   Acer Aspire 5 15.6\" Laptop - Silver (Intel Cor...   800.89    2.0\n",
       "84   Apple MacBook Air 13.3\" (Intel Core i5 1.8 GHz...  1100.89    1.0\n",
       "120  BUNDLE with Headset - MSI GF63 8RC-252CA Gamin...  1306.99    2.0\n",
       "122  ASUS VivoBook S15 15.6\" Laptop - Gun Metal (In...   950.89    1.0\n",
       "125  Apple MacBook Air 13.3\" (Intel Core i5 1.8 GHz...  1350.89    1.0\n",
       "130  Acer Spin 5 13.3\" 2-in-1 Laptop - Silver (Inte...   850.89    2.0\n",
       "136  Lenovo T440S Ultrabook, Intel Core i7 4th Gen,...   699.99    1.0\n",
       "143  Dell 13.3\" Touchscreen 2-in-1 Laptop - Grey (I...  1150.89    4.0\n",
       "147  ASUS ZenBook 14\" Laptop - Quartz Grey (Intel C...   900.89    2.0\n",
       "151  Apple MacBook Air 13.3\" w/ Retina - Gold (Inte...  1500.89    1.0\n",
       "153  Lenovo T450, Intel Core i7 5th Gen, 8GB RAM, 2...   599.99    1.0\n",
       "158  ASUS B9440 14\" Laptop - Grey Magnesium (Intel ...  1300.89    1.0\n",
       "164  Dell Latitude E6230 Laptop Intel Core i5 3320m...   319.99    1.0\n",
       "167  Microsoft Surface 2 13.5\" Touchscreen Laptop -...  1750.89    1.0\n",
       "169  Lenovo Flex 5 15.6\" Touchscreen 2-in-1 Laptop-...  1100.89    1.0\n",
       "181  Apple MacBook 12\" w/ Retina - Gold (Intel Core...  1730.89    1.0\n",
       "198  Apple MacBook Pro 13.3\" Laptop (Intel Core i5 ...  1730.89    1.0\n",
       "205  HP ENVY 17.3\" Touchscreen Laptop - Silver (Int...  1500.89    1.0\n",
       "208  HP OMEN 15.6\" Gaming Laptop - Black (Intel Cor...  1600.88    1.0\n",
       "221  ASUS ZenBook 14\" Laptop - Grey (Intel Core i5-...  1100.89    3.0\n",
       "225  HP x360 13.3\" Touchscreen 2-in-1 Laptop - Silv...  1900.89    2.0\n",
       "230  Acer Predator 15.6\" Gaming Laptop (Intel Core ...  1700.89    1.0\n",
       "234  Alienware 15.6\" Gaming Laptop (Intel Core i7-8...  2500.89    1.0\n",
       "240  Refurbished Lenovo W540 i7-4800MQ @ 2.7GHz, 16...   625.99    2.0\n",
       "242  Microsoft Surface Book 2 15\" 2-in-1 Laptop - S...  4200.89    1.0\n",
       "244  HP Zbook 15 G2, Core i7 Quad Core, 16GB RAM, 2...   749.99    1.0\n",
       "249  Asus ROG 15.6\" Gaming Laptop (Intel Core i7/1T...  2500.89    2.0\n",
       "252  MSI Leopard GP73 8RE-081CA 17.3\" Gaming Laptop...  1880.39    2.0\n",
       "255  ASUS ROG GL503VM 15.6\" Laptop - Dragon Scale (...  1994.88    3.0\n",
       "256  ASUS 17.3\" Gaming Laptop - Black (Core i7-8750...  1841.89    1.0\n",
       "259  Acer Nitro 5 15.6\" Laptop, i7-7700HQ, 16GB DDR...  1695.00    1.0\n",
       "261  Microsoft Surface 2 13.5\" Touchscreen Laptop -...  2550.89    1.0\n",
       "266  Apple MacBook Pro 15.4\" Laptop w/ Touch Bar (I...  3000.89    1.0\n",
       "269  ASUS ROG GL502VM 15.6\" Gaming Laptop (Intel Co...  1800.89    1.0\n",
       "277  Dell XPS 15.6\" Touchscreen Laptop - Silver (In...  2950.89    2.0"
      ]
     },
     "execution_count": 52,
     "metadata": {},
     "output_type": "execute_result"
    }
   ],
   "source": [
    "dfmax_ratings[['laptops', 'prices', 'votes']]"
   ]
  },
  {
   "cell_type": "code",
   "execution_count": 53,
   "metadata": {},
   "outputs": [
    {
     "data": {
      "text/plain": [
       "7.0"
      ]
     },
     "execution_count": 53,
     "metadata": {},
     "output_type": "execute_result"
    }
   ],
   "source": [
    "dfmax_ratings['votes'].max()"
   ]
  },
  {
   "cell_type": "markdown",
   "metadata": {},
   "source": [
    "# Plotting and analyzing the distributions"
   ]
  },
  {
   "cell_type": "code",
   "execution_count": 54,
   "metadata": {},
   "outputs": [],
   "source": [
    "import matplotlib.pyplot as plt\n",
    "%matplotlib inline"
   ]
  },
  {
   "cell_type": "code",
   "execution_count": 55,
   "metadata": {},
   "outputs": [
    {
     "data": {
      "image/png": "[encoded data removed]",
      "text/plain": [
       "<Figure size 1152x576 with 4 Axes>"
      ]
     },
     "metadata": {
      "needs_background": "light"
     },
     "output_type": "display_data"
    }
   ],
   "source": [
    "df[['prices', 'ratings', 'votes']].hist(bins=15, figsize = (16,8))\n",
    "plt.show()"
   ]
  },
  {
   "cell_type": "code",
   "execution_count": 56,
   "metadata": {},
   "outputs": [
    {
     "data": {
      "image/png": "[encoded data removed]",
      "text/plain": [
       "<Figure size 1152x288 with 3 Axes>"
      ]
     },
     "metadata": {
      "needs_background": "light"
     },
     "output_type": "display_data"
    }
   ],
   "source": [
    "import matplotlib.pyplot as plt\n",
    "%matplotlib inline\n",
    "\n",
    "fig, axes = plt.subplots(nrows = 1, ncols = 3, figsize = (16,4))\n",
    "ax1, ax2, ax3 = fig.axes\n",
    "\n",
    "ax1.boxplot(df['prices']) # bin range = 1\n",
    "ax1.set_title('Prices')\n",
    "\n",
    "ax2.boxplot(df['ratings']) # bin range = 10\n",
    "ax2.set_title('Ratings')\n",
    "\n",
    "ax3.boxplot(df['votes'])\n",
    "ax3.set_title('Votes')\n",
    "\n",
    "for ax in fig.axes:\n",
    "    ax.spines['top'].set_visible(False)\n",
    "    ax.spines['right'].set_visible(False)\n",
    "\n",
    "plt.show()"
   ]
  },
  {
   "cell_type": "code",
   "execution_count": null,
   "metadata": {},
   "outputs": [],
   "source": []
  }
 ],
 "metadata": {
  "kernelspec": {
   "display_name": "Python 3",
   "language": "python",
   "name": "python3"
  },
  "language_info": {
   "codemirror_mode": {
    "name": "ipython",
    "version": 3
   },
   "file_extension": ".py",
   "mimetype": "text/x-python",
   "name": "python",
   "nbconvert_exporter": "python",
   "pygments_lexer": "ipython3",
   "version": "3.7.0"
  }
 },
 "nbformat": 4,
 "nbformat_minor": 2
}
